{
 "cells": [
  {
   "cell_type": "markdown",
   "id": "b2268099-102d-496a-b862-8491404e78d5",
   "metadata": {},
   "source": [
    "# Importing libraries"
   ]
  },
  {
   "cell_type": "markdown",
   "id": "34a1cabb-3918-45f7-afc3-cceec215f31e",
   "metadata": {},
   "source": [
    "Importing libraries for managing the data"
   ]
  },
  {
   "cell_type": "code",
   "execution_count": 5,
   "id": "932415c9-9035-4879-9c77-894c64bf210f",
   "metadata": {},
   "outputs": [],
   "source": [
    "import pandas as pd\n",
    "import numpy as np"
   ]
  },
  {
   "cell_type": "markdown",
   "id": "c696c9d3-83b1-48e8-8524-c0c72284b276",
   "metadata": {},
   "source": [
    "Library for splitting the data into training and testing data"
   ]
  },
  {
   "cell_type": "code",
   "execution_count": 6,
   "id": "3756b883-f5d4-4421-8b26-dfc47a92b97b",
   "metadata": {},
   "outputs": [],
   "source": [
    "from sklearn.model_selection import train_test_split"
   ]
  },
  {
   "cell_type": "markdown",
   "id": "4d5b3b21-b634-4424-a385-2d94eb26ec35",
   "metadata": {},
   "source": [
    "Importing library that allows us to use Extreme Gradiant Boosting Regression algorithm"
   ]
  },
  {
   "cell_type": "code",
   "execution_count": 7,
   "id": "8d7bbf70-8579-4891-8853-b06f4101049e",
   "metadata": {},
   "outputs": [],
   "source": [
    "from xgboost import XGBRegressor"
   ]
  },
  {
   "cell_type": "markdown",
   "id": "1acf804f-5695-4cdb-8d02-4a7f2e8db443",
   "metadata": {},
   "source": [
    "Importing library that allows us to use a Random Forest Regression model"
   ]
  },
  {
   "cell_type": "code",
   "execution_count": 8,
   "id": "b81c4de9-dd76-436f-b25f-225db3fddc19",
   "metadata": {},
   "outputs": [],
   "source": [
    "from sklearn.ensemble import RandomForestRegressor"
   ]
  },
  {
   "cell_type": "markdown",
   "id": "5b95878d-e2f7-4faa-ab9e-6c9edb414db0",
   "metadata": {},
   "source": [
    "Libraries for using tensorflow (neural network algorithm)"
   ]
  },
  {
   "cell_type": "code",
   "execution_count": 9,
   "id": "c4977c47-f85c-4a3e-b137-fb6e77bd83e8",
   "metadata": {},
   "outputs": [],
   "source": [
    "import tensorflow as tf\n",
    "from tensorflow.keras.models import Sequential\n",
    "from tensorflow.keras.layers import Dense, Dropout\n",
    "from tensorflow.keras import Input\n",
    "from tensorflow.keras.callbacks import EarlyStopping\n",
    "from tensorflow.keras.callbacks import LearningRateScheduler\n",
    "from tensorflow.keras.layers import BatchNormalization"
   ]
  },
  {
   "cell_type": "markdown",
   "id": "5ba03898-8c52-4505-828a-c29744fc2385",
   "metadata": {},
   "source": [
    "Prediction evaluation libraries"
   ]
  },
  {
   "cell_type": "code",
   "execution_count": 10,
   "id": "7b061e8c-fcc1-4e46-8ca9-f569c0c2b32d",
   "metadata": {},
   "outputs": [],
   "source": [
    "from sklearn.metrics import mean_squared_error, mean_squared_log_error"
   ]
  },
  {
   "cell_type": "markdown",
   "id": "78384b0c-2165-4ec5-9038-a045887e6680",
   "metadata": {},
   "source": [
    "Library that allows us to scale the features of our data (important for neural networks)"
   ]
  },
  {
   "cell_type": "code",
   "execution_count": 11,
   "id": "b7a016f7-edb0-4703-ad47-ffc7d556e091",
   "metadata": {},
   "outputs": [],
   "source": [
    "from sklearn.preprocessing import StandardScaler"
   ]
  },
  {
   "cell_type": "markdown",
   "id": "6f6e7b97-0858-420f-8dc6-88e2cc32a494",
   "metadata": {},
   "source": [
    "# Loading data"
   ]
  },
  {
   "cell_type": "markdown",
   "id": "f8cb508f-e509-4a4e-98ab-15a15ae01487",
   "metadata": {},
   "source": [
    "File \"bikesRentedPerHourCombinedData.csv\" contains hourly data from the autumn of 2010 to the autumn of 2024. It lists how many bike rides was done on a certain hour and also the weather conditions."
   ]
  },
  {
   "cell_type": "code",
   "execution_count": 12,
   "id": "53c390c7-8f7f-4011-918e-5e69bb47e3b6",
   "metadata": {},
   "outputs": [],
   "source": [
    "data = pd.read_csv(\"bikesRentedPerHourCombinedData.csv\")"
   ]
  },
  {
   "cell_type": "code",
   "execution_count": 13,
   "id": "be219729-528f-4938-9511-b5c9b3c8b129",
   "metadata": {},
   "outputs": [
    {
     "data": {
      "text/html": [
       "<div>\n",
       "<style scoped>\n",
       "    .dataframe tbody tr th:only-of-type {\n",
       "        vertical-align: middle;\n",
       "    }\n",
       "\n",
       "    .dataframe tbody tr th {\n",
       "        vertical-align: top;\n",
       "    }\n",
       "\n",
       "    .dataframe thead th {\n",
       "        text-align: right;\n",
       "    }\n",
       "</style>\n",
       "<table border=\"1\" class=\"dataframe\">\n",
       "  <thead>\n",
       "    <tr style=\"text-align: right;\">\n",
       "      <th></th>\n",
       "      <th>datetime</th>\n",
       "      <th>season</th>\n",
       "      <th>holiday</th>\n",
       "      <th>workingday</th>\n",
       "      <th>weather</th>\n",
       "      <th>temp</th>\n",
       "      <th>atemp</th>\n",
       "      <th>humidity</th>\n",
       "      <th>windspeed</th>\n",
       "      <th>count</th>\n",
       "    </tr>\n",
       "  </thead>\n",
       "  <tbody>\n",
       "    <tr>\n",
       "      <th>0</th>\n",
       "      <td>2010-09-20 11:00:00</td>\n",
       "      <td>2</td>\n",
       "      <td>0</td>\n",
       "      <td>1</td>\n",
       "      <td>1</td>\n",
       "      <td>23.1</td>\n",
       "      <td>21.2</td>\n",
       "      <td>34.0</td>\n",
       "      <td>13.0</td>\n",
       "      <td>2</td>\n",
       "    </tr>\n",
       "    <tr>\n",
       "      <th>1</th>\n",
       "      <td>2010-09-20 12:00:00</td>\n",
       "      <td>2</td>\n",
       "      <td>0</td>\n",
       "      <td>1</td>\n",
       "      <td>1</td>\n",
       "      <td>24.3</td>\n",
       "      <td>22.7</td>\n",
       "      <td>30.0</td>\n",
       "      <td>12.6</td>\n",
       "      <td>17</td>\n",
       "    </tr>\n",
       "    <tr>\n",
       "      <th>2</th>\n",
       "      <td>2010-09-20 13:00:00</td>\n",
       "      <td>2</td>\n",
       "      <td>0</td>\n",
       "      <td>1</td>\n",
       "      <td>1</td>\n",
       "      <td>25.1</td>\n",
       "      <td>23.5</td>\n",
       "      <td>29.0</td>\n",
       "      <td>12.6</td>\n",
       "      <td>11</td>\n",
       "    </tr>\n",
       "    <tr>\n",
       "      <th>3</th>\n",
       "      <td>2010-09-20 14:00:00</td>\n",
       "      <td>2</td>\n",
       "      <td>0</td>\n",
       "      <td>1</td>\n",
       "      <td>1</td>\n",
       "      <td>25.4</td>\n",
       "      <td>23.6</td>\n",
       "      <td>30.0</td>\n",
       "      <td>12.8</td>\n",
       "      <td>6</td>\n",
       "    </tr>\n",
       "    <tr>\n",
       "      <th>4</th>\n",
       "      <td>2010-09-20 15:00:00</td>\n",
       "      <td>2</td>\n",
       "      <td>0</td>\n",
       "      <td>1</td>\n",
       "      <td>1</td>\n",
       "      <td>25.6</td>\n",
       "      <td>23.2</td>\n",
       "      <td>30.0</td>\n",
       "      <td>13.0</td>\n",
       "      <td>12</td>\n",
       "    </tr>\n",
       "    <tr>\n",
       "      <th>...</th>\n",
       "      <td>...</td>\n",
       "      <td>...</td>\n",
       "      <td>...</td>\n",
       "      <td>...</td>\n",
       "      <td>...</td>\n",
       "      <td>...</td>\n",
       "      <td>...</td>\n",
       "      <td>...</td>\n",
       "      <td>...</td>\n",
       "      <td>...</td>\n",
       "    </tr>\n",
       "    <tr>\n",
       "      <th>123728</th>\n",
       "      <td>2024-10-31 19:00:00</td>\n",
       "      <td>3</td>\n",
       "      <td>0</td>\n",
       "      <td>1</td>\n",
       "      <td>1</td>\n",
       "      <td>21.8</td>\n",
       "      <td>20.6</td>\n",
       "      <td>65.0</td>\n",
       "      <td>18.8</td>\n",
       "      <td>1561</td>\n",
       "    </tr>\n",
       "    <tr>\n",
       "      <th>123729</th>\n",
       "      <td>2024-10-31 20:00:00</td>\n",
       "      <td>3</td>\n",
       "      <td>0</td>\n",
       "      <td>1</td>\n",
       "      <td>1</td>\n",
       "      <td>22.3</td>\n",
       "      <td>20.7</td>\n",
       "      <td>61.0</td>\n",
       "      <td>20.4</td>\n",
       "      <td>1249</td>\n",
       "    </tr>\n",
       "    <tr>\n",
       "      <th>123730</th>\n",
       "      <td>2024-10-31 21:00:00</td>\n",
       "      <td>3</td>\n",
       "      <td>0</td>\n",
       "      <td>1</td>\n",
       "      <td>1</td>\n",
       "      <td>21.9</td>\n",
       "      <td>20.2</td>\n",
       "      <td>61.0</td>\n",
       "      <td>20.4</td>\n",
       "      <td>1182</td>\n",
       "    </tr>\n",
       "    <tr>\n",
       "      <th>123731</th>\n",
       "      <td>2024-10-31 22:00:00</td>\n",
       "      <td>3</td>\n",
       "      <td>0</td>\n",
       "      <td>1</td>\n",
       "      <td>1</td>\n",
       "      <td>21.5</td>\n",
       "      <td>19.6</td>\n",
       "      <td>61.0</td>\n",
       "      <td>20.9</td>\n",
       "      <td>939</td>\n",
       "    </tr>\n",
       "    <tr>\n",
       "      <th>123732</th>\n",
       "      <td>2024-10-31 23:00:00</td>\n",
       "      <td>3</td>\n",
       "      <td>0</td>\n",
       "      <td>1</td>\n",
       "      <td>1</td>\n",
       "      <td>21.3</td>\n",
       "      <td>19.3</td>\n",
       "      <td>60.0</td>\n",
       "      <td>20.5</td>\n",
       "      <td>511</td>\n",
       "    </tr>\n",
       "  </tbody>\n",
       "</table>\n",
       "<p>123733 rows × 10 columns</p>\n",
       "</div>"
      ],
      "text/plain": [
       "                   datetime  season  holiday  workingday  weather  temp  \\\n",
       "0       2010-09-20 11:00:00       2        0           1        1  23.1   \n",
       "1       2010-09-20 12:00:00       2        0           1        1  24.3   \n",
       "2       2010-09-20 13:00:00       2        0           1        1  25.1   \n",
       "3       2010-09-20 14:00:00       2        0           1        1  25.4   \n",
       "4       2010-09-20 15:00:00       2        0           1        1  25.6   \n",
       "...                     ...     ...      ...         ...      ...   ...   \n",
       "123728  2024-10-31 19:00:00       3        0           1        1  21.8   \n",
       "123729  2024-10-31 20:00:00       3        0           1        1  22.3   \n",
       "123730  2024-10-31 21:00:00       3        0           1        1  21.9   \n",
       "123731  2024-10-31 22:00:00       3        0           1        1  21.5   \n",
       "123732  2024-10-31 23:00:00       3        0           1        1  21.3   \n",
       "\n",
       "        atemp  humidity  windspeed  count  \n",
       "0        21.2      34.0       13.0      2  \n",
       "1        22.7      30.0       12.6     17  \n",
       "2        23.5      29.0       12.6     11  \n",
       "3        23.6      30.0       12.8      6  \n",
       "4        23.2      30.0       13.0     12  \n",
       "...       ...       ...        ...    ...  \n",
       "123728   20.6      65.0       18.8   1561  \n",
       "123729   20.7      61.0       20.4   1249  \n",
       "123730   20.2      61.0       20.4   1182  \n",
       "123731   19.6      61.0       20.9    939  \n",
       "123732   19.3      60.0       20.5    511  \n",
       "\n",
       "[123733 rows x 10 columns]"
      ]
     },
     "execution_count": 13,
     "metadata": {},
     "output_type": "execute_result"
    }
   ],
   "source": [
    "data"
   ]
  },
  {
   "cell_type": "markdown",
   "id": "3615d975-93a2-43fa-bba1-435fe6dbe7e6",
   "metadata": {},
   "source": [
    "# Creating new columns"
   ]
  },
  {
   "cell_type": "markdown",
   "id": "3d91ec8f-9635-42b3-b43c-b2c772d73acb",
   "metadata": {},
   "source": [
    "Converting *object* type \"*datetime*\" column into *datetime* type. This is important because then we can divide that column into more descriptive columns"
   ]
  },
  {
   "cell_type": "code",
   "execution_count": 14,
   "id": "6eeae312-a8dd-463c-b44c-ba6041612f9b",
   "metadata": {},
   "outputs": [],
   "source": [
    "data[\"datetime\"] = pd.to_datetime(data[\"datetime\"])"
   ]
  },
  {
   "cell_type": "markdown",
   "id": "a2d95a43-6ca4-42f1-bf57-276540358659",
   "metadata": {},
   "source": [
    "Splitting \"*datetime*\" column into \"*year*\", \"*month*\", \"*day*\" and \"*hour*\" columns"
   ]
  },
  {
   "cell_type": "code",
   "execution_count": 15,
   "id": "b5545145-6515-4e03-8a42-8682cf21c646",
   "metadata": {},
   "outputs": [],
   "source": [
    "datetime = data[\"datetime\"]\n",
    "\n",
    "data[\"year\"] = datetime.dt.year\n",
    "data[\"month\"] = datetime.dt.month\n",
    "data[\"day\"] = datetime.dt.day\n",
    "data[\"hour\"] = datetime.dt.hour"
   ]
  },
  {
   "cell_type": "markdown",
   "id": "6f1d1cc0-8fba-4f2f-b37a-6bd68e34d808",
   "metadata": {},
   "source": [
    "Creating a \"*dayofweek*\" column to improve the performance of the machine learning model"
   ]
  },
  {
   "cell_type": "code",
   "execution_count": 16,
   "id": "092f9de8-bd34-4f17-bd8f-631751c673b2",
   "metadata": {},
   "outputs": [],
   "source": [
    "data[\"dayofweek\"] = datetime.dt.dayofweek"
   ]
  },
  {
   "cell_type": "code",
   "execution_count": 17,
   "id": "3e820732-e57d-4889-bf7b-02ba12792bd3",
   "metadata": {},
   "outputs": [
    {
     "data": {
      "text/html": [
       "<div>\n",
       "<style scoped>\n",
       "    .dataframe tbody tr th:only-of-type {\n",
       "        vertical-align: middle;\n",
       "    }\n",
       "\n",
       "    .dataframe tbody tr th {\n",
       "        vertical-align: top;\n",
       "    }\n",
       "\n",
       "    .dataframe thead th {\n",
       "        text-align: right;\n",
       "    }\n",
       "</style>\n",
       "<table border=\"1\" class=\"dataframe\">\n",
       "  <thead>\n",
       "    <tr style=\"text-align: right;\">\n",
       "      <th></th>\n",
       "      <th>datetime</th>\n",
       "      <th>season</th>\n",
       "      <th>holiday</th>\n",
       "      <th>workingday</th>\n",
       "      <th>weather</th>\n",
       "      <th>temp</th>\n",
       "      <th>atemp</th>\n",
       "      <th>humidity</th>\n",
       "      <th>windspeed</th>\n",
       "      <th>count</th>\n",
       "      <th>year</th>\n",
       "      <th>month</th>\n",
       "      <th>day</th>\n",
       "      <th>hour</th>\n",
       "      <th>dayofweek</th>\n",
       "    </tr>\n",
       "  </thead>\n",
       "  <tbody>\n",
       "    <tr>\n",
       "      <th>0</th>\n",
       "      <td>2010-09-20 11:00:00</td>\n",
       "      <td>2</td>\n",
       "      <td>0</td>\n",
       "      <td>1</td>\n",
       "      <td>1</td>\n",
       "      <td>23.1</td>\n",
       "      <td>21.2</td>\n",
       "      <td>34.0</td>\n",
       "      <td>13.0</td>\n",
       "      <td>2</td>\n",
       "      <td>2010</td>\n",
       "      <td>9</td>\n",
       "      <td>20</td>\n",
       "      <td>11</td>\n",
       "      <td>0</td>\n",
       "    </tr>\n",
       "    <tr>\n",
       "      <th>1</th>\n",
       "      <td>2010-09-20 12:00:00</td>\n",
       "      <td>2</td>\n",
       "      <td>0</td>\n",
       "      <td>1</td>\n",
       "      <td>1</td>\n",
       "      <td>24.3</td>\n",
       "      <td>22.7</td>\n",
       "      <td>30.0</td>\n",
       "      <td>12.6</td>\n",
       "      <td>17</td>\n",
       "      <td>2010</td>\n",
       "      <td>9</td>\n",
       "      <td>20</td>\n",
       "      <td>12</td>\n",
       "      <td>0</td>\n",
       "    </tr>\n",
       "    <tr>\n",
       "      <th>2</th>\n",
       "      <td>2010-09-20 13:00:00</td>\n",
       "      <td>2</td>\n",
       "      <td>0</td>\n",
       "      <td>1</td>\n",
       "      <td>1</td>\n",
       "      <td>25.1</td>\n",
       "      <td>23.5</td>\n",
       "      <td>29.0</td>\n",
       "      <td>12.6</td>\n",
       "      <td>11</td>\n",
       "      <td>2010</td>\n",
       "      <td>9</td>\n",
       "      <td>20</td>\n",
       "      <td>13</td>\n",
       "      <td>0</td>\n",
       "    </tr>\n",
       "    <tr>\n",
       "      <th>3</th>\n",
       "      <td>2010-09-20 14:00:00</td>\n",
       "      <td>2</td>\n",
       "      <td>0</td>\n",
       "      <td>1</td>\n",
       "      <td>1</td>\n",
       "      <td>25.4</td>\n",
       "      <td>23.6</td>\n",
       "      <td>30.0</td>\n",
       "      <td>12.8</td>\n",
       "      <td>6</td>\n",
       "      <td>2010</td>\n",
       "      <td>9</td>\n",
       "      <td>20</td>\n",
       "      <td>14</td>\n",
       "      <td>0</td>\n",
       "    </tr>\n",
       "    <tr>\n",
       "      <th>4</th>\n",
       "      <td>2010-09-20 15:00:00</td>\n",
       "      <td>2</td>\n",
       "      <td>0</td>\n",
       "      <td>1</td>\n",
       "      <td>1</td>\n",
       "      <td>25.6</td>\n",
       "      <td>23.2</td>\n",
       "      <td>30.0</td>\n",
       "      <td>13.0</td>\n",
       "      <td>12</td>\n",
       "      <td>2010</td>\n",
       "      <td>9</td>\n",
       "      <td>20</td>\n",
       "      <td>15</td>\n",
       "      <td>0</td>\n",
       "    </tr>\n",
       "    <tr>\n",
       "      <th>...</th>\n",
       "      <td>...</td>\n",
       "      <td>...</td>\n",
       "      <td>...</td>\n",
       "      <td>...</td>\n",
       "      <td>...</td>\n",
       "      <td>...</td>\n",
       "      <td>...</td>\n",
       "      <td>...</td>\n",
       "      <td>...</td>\n",
       "      <td>...</td>\n",
       "      <td>...</td>\n",
       "      <td>...</td>\n",
       "      <td>...</td>\n",
       "      <td>...</td>\n",
       "      <td>...</td>\n",
       "    </tr>\n",
       "    <tr>\n",
       "      <th>123728</th>\n",
       "      <td>2024-10-31 19:00:00</td>\n",
       "      <td>3</td>\n",
       "      <td>0</td>\n",
       "      <td>1</td>\n",
       "      <td>1</td>\n",
       "      <td>21.8</td>\n",
       "      <td>20.6</td>\n",
       "      <td>65.0</td>\n",
       "      <td>18.8</td>\n",
       "      <td>1561</td>\n",
       "      <td>2024</td>\n",
       "      <td>10</td>\n",
       "      <td>31</td>\n",
       "      <td>19</td>\n",
       "      <td>3</td>\n",
       "    </tr>\n",
       "    <tr>\n",
       "      <th>123729</th>\n",
       "      <td>2024-10-31 20:00:00</td>\n",
       "      <td>3</td>\n",
       "      <td>0</td>\n",
       "      <td>1</td>\n",
       "      <td>1</td>\n",
       "      <td>22.3</td>\n",
       "      <td>20.7</td>\n",
       "      <td>61.0</td>\n",
       "      <td>20.4</td>\n",
       "      <td>1249</td>\n",
       "      <td>2024</td>\n",
       "      <td>10</td>\n",
       "      <td>31</td>\n",
       "      <td>20</td>\n",
       "      <td>3</td>\n",
       "    </tr>\n",
       "    <tr>\n",
       "      <th>123730</th>\n",
       "      <td>2024-10-31 21:00:00</td>\n",
       "      <td>3</td>\n",
       "      <td>0</td>\n",
       "      <td>1</td>\n",
       "      <td>1</td>\n",
       "      <td>21.9</td>\n",
       "      <td>20.2</td>\n",
       "      <td>61.0</td>\n",
       "      <td>20.4</td>\n",
       "      <td>1182</td>\n",
       "      <td>2024</td>\n",
       "      <td>10</td>\n",
       "      <td>31</td>\n",
       "      <td>21</td>\n",
       "      <td>3</td>\n",
       "    </tr>\n",
       "    <tr>\n",
       "      <th>123731</th>\n",
       "      <td>2024-10-31 22:00:00</td>\n",
       "      <td>3</td>\n",
       "      <td>0</td>\n",
       "      <td>1</td>\n",
       "      <td>1</td>\n",
       "      <td>21.5</td>\n",
       "      <td>19.6</td>\n",
       "      <td>61.0</td>\n",
       "      <td>20.9</td>\n",
       "      <td>939</td>\n",
       "      <td>2024</td>\n",
       "      <td>10</td>\n",
       "      <td>31</td>\n",
       "      <td>22</td>\n",
       "      <td>3</td>\n",
       "    </tr>\n",
       "    <tr>\n",
       "      <th>123732</th>\n",
       "      <td>2024-10-31 23:00:00</td>\n",
       "      <td>3</td>\n",
       "      <td>0</td>\n",
       "      <td>1</td>\n",
       "      <td>1</td>\n",
       "      <td>21.3</td>\n",
       "      <td>19.3</td>\n",
       "      <td>60.0</td>\n",
       "      <td>20.5</td>\n",
       "      <td>511</td>\n",
       "      <td>2024</td>\n",
       "      <td>10</td>\n",
       "      <td>31</td>\n",
       "      <td>23</td>\n",
       "      <td>3</td>\n",
       "    </tr>\n",
       "  </tbody>\n",
       "</table>\n",
       "<p>123733 rows × 15 columns</p>\n",
       "</div>"
      ],
      "text/plain": [
       "                  datetime  season  holiday  workingday  weather  temp  atemp  \\\n",
       "0      2010-09-20 11:00:00       2        0           1        1  23.1   21.2   \n",
       "1      2010-09-20 12:00:00       2        0           1        1  24.3   22.7   \n",
       "2      2010-09-20 13:00:00       2        0           1        1  25.1   23.5   \n",
       "3      2010-09-20 14:00:00       2        0           1        1  25.4   23.6   \n",
       "4      2010-09-20 15:00:00       2        0           1        1  25.6   23.2   \n",
       "...                    ...     ...      ...         ...      ...   ...    ...   \n",
       "123728 2024-10-31 19:00:00       3        0           1        1  21.8   20.6   \n",
       "123729 2024-10-31 20:00:00       3        0           1        1  22.3   20.7   \n",
       "123730 2024-10-31 21:00:00       3        0           1        1  21.9   20.2   \n",
       "123731 2024-10-31 22:00:00       3        0           1        1  21.5   19.6   \n",
       "123732 2024-10-31 23:00:00       3        0           1        1  21.3   19.3   \n",
       "\n",
       "        humidity  windspeed  count  year  month  day  hour  dayofweek  \n",
       "0           34.0       13.0      2  2010      9   20    11          0  \n",
       "1           30.0       12.6     17  2010      9   20    12          0  \n",
       "2           29.0       12.6     11  2010      9   20    13          0  \n",
       "3           30.0       12.8      6  2010      9   20    14          0  \n",
       "4           30.0       13.0     12  2010      9   20    15          0  \n",
       "...          ...        ...    ...   ...    ...  ...   ...        ...  \n",
       "123728      65.0       18.8   1561  2024     10   31    19          3  \n",
       "123729      61.0       20.4   1249  2024     10   31    20          3  \n",
       "123730      61.0       20.4   1182  2024     10   31    21          3  \n",
       "123731      61.0       20.9    939  2024     10   31    22          3  \n",
       "123732      60.0       20.5    511  2024     10   31    23          3  \n",
       "\n",
       "[123733 rows x 15 columns]"
      ]
     },
     "execution_count": 17,
     "metadata": {},
     "output_type": "execute_result"
    }
   ],
   "source": [
    "data"
   ]
  },
  {
   "cell_type": "markdown",
   "id": "df66b8cb-b5d2-4c7b-96bc-1f840cc3b6cd",
   "metadata": {},
   "source": [
    "# Removing unnecessary columns"
   ]
  },
  {
   "cell_type": "markdown",
   "id": "741ed355-29ee-4bdc-ac34-758a47aaa486",
   "metadata": {},
   "source": [
    "Removing \"*datetime*\" column, since machine learning models usually can't read it. We already converted and divided it into appropriate columns."
   ]
  },
  {
   "cell_type": "code",
   "execution_count": 18,
   "id": "becf03e3-4f8a-4688-9ce1-d783dcfd43b8",
   "metadata": {},
   "outputs": [],
   "source": [
    "data_modified = data.drop(\"datetime\", axis=1)"
   ]
  },
  {
   "cell_type": "markdown",
   "id": "9126e411-b35d-47a8-8b05-b03b05c34619",
   "metadata": {},
   "source": [
    "Removing \"*day*\" column because it causes overfitting. Instead \"*holiday*\", \"*workingday*\" and \"*dayofweek*\" columns are much better to describe the daily data."
   ]
  },
  {
   "cell_type": "code",
   "execution_count": 19,
   "id": "4c313508-2742-41ea-9397-0e00873d848e",
   "metadata": {},
   "outputs": [],
   "source": [
    "data_modified.drop(\"day\", inplace=True, axis=1)"
   ]
  },
  {
   "cell_type": "markdown",
   "id": "ecd49f18-627c-4b9b-b7f0-7a407591d859",
   "metadata": {},
   "source": [
    "We removed early years (2010–2012) due to the low volume of bike rides compared to the rest of the dataset. Additionally, we excluded the pandemic years (2020–2021) as they experienced significant movement restrictions due to COVID-19, which could confuse the model. If future predictions include scenarios with similar restrictions in Los Angeles, we should consider adding a new feature, such as \"*is_moving_restricted*\", to capture this context."
   ]
  },
  {
   "cell_type": "code",
   "execution_count": 20,
   "id": "43c3d391-4097-44a5-be38-9833778ecd55",
   "metadata": {},
   "outputs": [],
   "source": [
    "years_to_remove = [2010, 2011, 2012, 2020, 2021]\n",
    "data_modified = data_modified[~data_modified['year'].isin(years_to_remove)]"
   ]
  },
  {
   "cell_type": "markdown",
   "id": "5b1bf994-a33a-44ec-8dd0-00ff8140dabc",
   "metadata": {},
   "source": [
    "# Modifying \"*year*\" column"
   ]
  },
  {
   "cell_type": "markdown",
   "id": "fbc9b722-c8c2-4f11-94d2-124bd804448e",
   "metadata": {},
   "source": [
    "The model's performance is unaffected by whether the years start from 2013 or 0. For simplicity, we adjusted the dataset so that the year starts from 0 by subtracting 2013."
   ]
  },
  {
   "cell_type": "code",
   "execution_count": 21,
   "id": "2dc38e3e-43e3-409e-8f5b-438461f3cda5",
   "metadata": {},
   "outputs": [],
   "source": [
    "data_modified[\"year\"] = data_modified[\"year\"] - 2013"
   ]
  },
  {
   "cell_type": "markdown",
   "id": "002eea64-d2cb-4e2c-b854-cebef85d7be5",
   "metadata": {},
   "source": [
    "# Splitting data for training and testing"
   ]
  },
  {
   "cell_type": "markdown",
   "id": "0007243b-07c9-488f-8b79-0fb66f0a9fc7",
   "metadata": {},
   "source": [
    "Splitting data into features (X) and target (y)"
   ]
  },
  {
   "cell_type": "code",
   "execution_count": 22,
   "id": "86089e7b-7197-4446-bb61-19eddf6a1358",
   "metadata": {},
   "outputs": [],
   "source": [
    "X = data_modified.drop(\"count\", axis=1)\n",
    "y = data_modified[\"count\"]"
   ]
  },
  {
   "cell_type": "markdown",
   "id": "e5e12f71-86fa-400a-b4bb-bb9c1c8f4545",
   "metadata": {},
   "source": [
    "Splitting data into training and testing sets. Training set is for training the models and testing set is for evaluating the models"
   ]
  },
  {
   "cell_type": "code",
   "execution_count": 23,
   "id": "a7693575-2edf-4a58-97c5-1a053a30658e",
   "metadata": {},
   "outputs": [],
   "source": [
    "X_train, X_test, y_train, y_test = train_test_split(X, y, test_size=0.2, random_state=0)"
   ]
  },
  {
   "cell_type": "markdown",
   "id": "dac8e56e-cedb-4d5e-9e6b-e115368040db",
   "metadata": {},
   "source": [
    "# Training an extreme gradiant boosting (XGBoost) regression model"
   ]
  },
  {
   "cell_type": "markdown",
   "id": "b61018dd-97cb-48e0-83d1-547de6010c4e",
   "metadata": {},
   "source": [
    "Calculating the mean of the y_target. This is the base score that the XGBoost regression model starts predicting from"
   ]
  },
  {
   "cell_type": "code",
   "execution_count": 24,
   "id": "36553a6d-ac42-4612-ab38-bde733549776",
   "metadata": {},
   "outputs": [],
   "source": [
    "base_score = np.mean(y_train)"
   ]
  },
  {
   "cell_type": "markdown",
   "id": "6511a753-7c55-401d-8057-91f6af0a541d",
   "metadata": {},
   "source": [
    "Creating the model and training it"
   ]
  },
  {
   "cell_type": "code",
   "execution_count": 25,
   "id": "9910bc1f-9b47-43bb-b184-d2280b0d4d89",
   "metadata": {},
   "outputs": [
    {
     "data": {
      "text/html": [
       "<style>#sk-container-id-1 {\n",
       "  /* Definition of color scheme common for light and dark mode */\n",
       "  --sklearn-color-text: black;\n",
       "  --sklearn-color-line: gray;\n",
       "  /* Definition of color scheme for unfitted estimators */\n",
       "  --sklearn-color-unfitted-level-0: #fff5e6;\n",
       "  --sklearn-color-unfitted-level-1: #f6e4d2;\n",
       "  --sklearn-color-unfitted-level-2: #ffe0b3;\n",
       "  --sklearn-color-unfitted-level-3: chocolate;\n",
       "  /* Definition of color scheme for fitted estimators */\n",
       "  --sklearn-color-fitted-level-0: #f0f8ff;\n",
       "  --sklearn-color-fitted-level-1: #d4ebff;\n",
       "  --sklearn-color-fitted-level-2: #b3dbfd;\n",
       "  --sklearn-color-fitted-level-3: cornflowerblue;\n",
       "\n",
       "  /* Specific color for light theme */\n",
       "  --sklearn-color-text-on-default-background: var(--sg-text-color, var(--theme-code-foreground, var(--jp-content-font-color1, black)));\n",
       "  --sklearn-color-background: var(--sg-background-color, var(--theme-background, var(--jp-layout-color0, white)));\n",
       "  --sklearn-color-border-box: var(--sg-text-color, var(--theme-code-foreground, var(--jp-content-font-color1, black)));\n",
       "  --sklearn-color-icon: #696969;\n",
       "\n",
       "  @media (prefers-color-scheme: dark) {\n",
       "    /* Redefinition of color scheme for dark theme */\n",
       "    --sklearn-color-text-on-default-background: var(--sg-text-color, var(--theme-code-foreground, var(--jp-content-font-color1, white)));\n",
       "    --sklearn-color-background: var(--sg-background-color, var(--theme-background, var(--jp-layout-color0, #111)));\n",
       "    --sklearn-color-border-box: var(--sg-text-color, var(--theme-code-foreground, var(--jp-content-font-color1, white)));\n",
       "    --sklearn-color-icon: #878787;\n",
       "  }\n",
       "}\n",
       "\n",
       "#sk-container-id-1 {\n",
       "  color: var(--sklearn-color-text);\n",
       "}\n",
       "\n",
       "#sk-container-id-1 pre {\n",
       "  padding: 0;\n",
       "}\n",
       "\n",
       "#sk-container-id-1 input.sk-hidden--visually {\n",
       "  border: 0;\n",
       "  clip: rect(1px 1px 1px 1px);\n",
       "  clip: rect(1px, 1px, 1px, 1px);\n",
       "  height: 1px;\n",
       "  margin: -1px;\n",
       "  overflow: hidden;\n",
       "  padding: 0;\n",
       "  position: absolute;\n",
       "  width: 1px;\n",
       "}\n",
       "\n",
       "#sk-container-id-1 div.sk-dashed-wrapped {\n",
       "  border: 1px dashed var(--sklearn-color-line);\n",
       "  margin: 0 0.4em 0.5em 0.4em;\n",
       "  box-sizing: border-box;\n",
       "  padding-bottom: 0.4em;\n",
       "  background-color: var(--sklearn-color-background);\n",
       "}\n",
       "\n",
       "#sk-container-id-1 div.sk-container {\n",
       "  /* jupyter's `normalize.less` sets `[hidden] { display: none; }`\n",
       "     but bootstrap.min.css set `[hidden] { display: none !important; }`\n",
       "     so we also need the `!important` here to be able to override the\n",
       "     default hidden behavior on the sphinx rendered scikit-learn.org.\n",
       "     See: https://github.com/scikit-learn/scikit-learn/issues/21755 */\n",
       "  display: inline-block !important;\n",
       "  position: relative;\n",
       "}\n",
       "\n",
       "#sk-container-id-1 div.sk-text-repr-fallback {\n",
       "  display: none;\n",
       "}\n",
       "\n",
       "div.sk-parallel-item,\n",
       "div.sk-serial,\n",
       "div.sk-item {\n",
       "  /* draw centered vertical line to link estimators */\n",
       "  background-image: linear-gradient(var(--sklearn-color-text-on-default-background), var(--sklearn-color-text-on-default-background));\n",
       "  background-size: 2px 100%;\n",
       "  background-repeat: no-repeat;\n",
       "  background-position: center center;\n",
       "}\n",
       "\n",
       "/* Parallel-specific style estimator block */\n",
       "\n",
       "#sk-container-id-1 div.sk-parallel-item::after {\n",
       "  content: \"\";\n",
       "  width: 100%;\n",
       "  border-bottom: 2px solid var(--sklearn-color-text-on-default-background);\n",
       "  flex-grow: 1;\n",
       "}\n",
       "\n",
       "#sk-container-id-1 div.sk-parallel {\n",
       "  display: flex;\n",
       "  align-items: stretch;\n",
       "  justify-content: center;\n",
       "  background-color: var(--sklearn-color-background);\n",
       "  position: relative;\n",
       "}\n",
       "\n",
       "#sk-container-id-1 div.sk-parallel-item {\n",
       "  display: flex;\n",
       "  flex-direction: column;\n",
       "}\n",
       "\n",
       "#sk-container-id-1 div.sk-parallel-item:first-child::after {\n",
       "  align-self: flex-end;\n",
       "  width: 50%;\n",
       "}\n",
       "\n",
       "#sk-container-id-1 div.sk-parallel-item:last-child::after {\n",
       "  align-self: flex-start;\n",
       "  width: 50%;\n",
       "}\n",
       "\n",
       "#sk-container-id-1 div.sk-parallel-item:only-child::after {\n",
       "  width: 0;\n",
       "}\n",
       "\n",
       "/* Serial-specific style estimator block */\n",
       "\n",
       "#sk-container-id-1 div.sk-serial {\n",
       "  display: flex;\n",
       "  flex-direction: column;\n",
       "  align-items: center;\n",
       "  background-color: var(--sklearn-color-background);\n",
       "  padding-right: 1em;\n",
       "  padding-left: 1em;\n",
       "}\n",
       "\n",
       "\n",
       "/* Toggleable style: style used for estimator/Pipeline/ColumnTransformer box that is\n",
       "clickable and can be expanded/collapsed.\n",
       "- Pipeline and ColumnTransformer use this feature and define the default style\n",
       "- Estimators will overwrite some part of the style using the `sk-estimator` class\n",
       "*/\n",
       "\n",
       "/* Pipeline and ColumnTransformer style (default) */\n",
       "\n",
       "#sk-container-id-1 div.sk-toggleable {\n",
       "  /* Default theme specific background. It is overwritten whether we have a\n",
       "  specific estimator or a Pipeline/ColumnTransformer */\n",
       "  background-color: var(--sklearn-color-background);\n",
       "}\n",
       "\n",
       "/* Toggleable label */\n",
       "#sk-container-id-1 label.sk-toggleable__label {\n",
       "  cursor: pointer;\n",
       "  display: block;\n",
       "  width: 100%;\n",
       "  margin-bottom: 0;\n",
       "  padding: 0.5em;\n",
       "  box-sizing: border-box;\n",
       "  text-align: center;\n",
       "}\n",
       "\n",
       "#sk-container-id-1 label.sk-toggleable__label-arrow:before {\n",
       "  /* Arrow on the left of the label */\n",
       "  content: \"▸\";\n",
       "  float: left;\n",
       "  margin-right: 0.25em;\n",
       "  color: var(--sklearn-color-icon);\n",
       "}\n",
       "\n",
       "#sk-container-id-1 label.sk-toggleable__label-arrow:hover:before {\n",
       "  color: var(--sklearn-color-text);\n",
       "}\n",
       "\n",
       "/* Toggleable content - dropdown */\n",
       "\n",
       "#sk-container-id-1 div.sk-toggleable__content {\n",
       "  max-height: 0;\n",
       "  max-width: 0;\n",
       "  overflow: hidden;\n",
       "  text-align: left;\n",
       "  /* unfitted */\n",
       "  background-color: var(--sklearn-color-unfitted-level-0);\n",
       "}\n",
       "\n",
       "#sk-container-id-1 div.sk-toggleable__content.fitted {\n",
       "  /* fitted */\n",
       "  background-color: var(--sklearn-color-fitted-level-0);\n",
       "}\n",
       "\n",
       "#sk-container-id-1 div.sk-toggleable__content pre {\n",
       "  margin: 0.2em;\n",
       "  border-radius: 0.25em;\n",
       "  color: var(--sklearn-color-text);\n",
       "  /* unfitted */\n",
       "  background-color: var(--sklearn-color-unfitted-level-0);\n",
       "}\n",
       "\n",
       "#sk-container-id-1 div.sk-toggleable__content.fitted pre {\n",
       "  /* unfitted */\n",
       "  background-color: var(--sklearn-color-fitted-level-0);\n",
       "}\n",
       "\n",
       "#sk-container-id-1 input.sk-toggleable__control:checked~div.sk-toggleable__content {\n",
       "  /* Expand drop-down */\n",
       "  max-height: 200px;\n",
       "  max-width: 100%;\n",
       "  overflow: auto;\n",
       "}\n",
       "\n",
       "#sk-container-id-1 input.sk-toggleable__control:checked~label.sk-toggleable__label-arrow:before {\n",
       "  content: \"▾\";\n",
       "}\n",
       "\n",
       "/* Pipeline/ColumnTransformer-specific style */\n",
       "\n",
       "#sk-container-id-1 div.sk-label input.sk-toggleable__control:checked~label.sk-toggleable__label {\n",
       "  color: var(--sklearn-color-text);\n",
       "  background-color: var(--sklearn-color-unfitted-level-2);\n",
       "}\n",
       "\n",
       "#sk-container-id-1 div.sk-label.fitted input.sk-toggleable__control:checked~label.sk-toggleable__label {\n",
       "  background-color: var(--sklearn-color-fitted-level-2);\n",
       "}\n",
       "\n",
       "/* Estimator-specific style */\n",
       "\n",
       "/* Colorize estimator box */\n",
       "#sk-container-id-1 div.sk-estimator input.sk-toggleable__control:checked~label.sk-toggleable__label {\n",
       "  /* unfitted */\n",
       "  background-color: var(--sklearn-color-unfitted-level-2);\n",
       "}\n",
       "\n",
       "#sk-container-id-1 div.sk-estimator.fitted input.sk-toggleable__control:checked~label.sk-toggleable__label {\n",
       "  /* fitted */\n",
       "  background-color: var(--sklearn-color-fitted-level-2);\n",
       "}\n",
       "\n",
       "#sk-container-id-1 div.sk-label label.sk-toggleable__label,\n",
       "#sk-container-id-1 div.sk-label label {\n",
       "  /* The background is the default theme color */\n",
       "  color: var(--sklearn-color-text-on-default-background);\n",
       "}\n",
       "\n",
       "/* On hover, darken the color of the background */\n",
       "#sk-container-id-1 div.sk-label:hover label.sk-toggleable__label {\n",
       "  color: var(--sklearn-color-text);\n",
       "  background-color: var(--sklearn-color-unfitted-level-2);\n",
       "}\n",
       "\n",
       "/* Label box, darken color on hover, fitted */\n",
       "#sk-container-id-1 div.sk-label.fitted:hover label.sk-toggleable__label.fitted {\n",
       "  color: var(--sklearn-color-text);\n",
       "  background-color: var(--sklearn-color-fitted-level-2);\n",
       "}\n",
       "\n",
       "/* Estimator label */\n",
       "\n",
       "#sk-container-id-1 div.sk-label label {\n",
       "  font-family: monospace;\n",
       "  font-weight: bold;\n",
       "  display: inline-block;\n",
       "  line-height: 1.2em;\n",
       "}\n",
       "\n",
       "#sk-container-id-1 div.sk-label-container {\n",
       "  text-align: center;\n",
       "}\n",
       "\n",
       "/* Estimator-specific */\n",
       "#sk-container-id-1 div.sk-estimator {\n",
       "  font-family: monospace;\n",
       "  border: 1px dotted var(--sklearn-color-border-box);\n",
       "  border-radius: 0.25em;\n",
       "  box-sizing: border-box;\n",
       "  margin-bottom: 0.5em;\n",
       "  /* unfitted */\n",
       "  background-color: var(--sklearn-color-unfitted-level-0);\n",
       "}\n",
       "\n",
       "#sk-container-id-1 div.sk-estimator.fitted {\n",
       "  /* fitted */\n",
       "  background-color: var(--sklearn-color-fitted-level-0);\n",
       "}\n",
       "\n",
       "/* on hover */\n",
       "#sk-container-id-1 div.sk-estimator:hover {\n",
       "  /* unfitted */\n",
       "  background-color: var(--sklearn-color-unfitted-level-2);\n",
       "}\n",
       "\n",
       "#sk-container-id-1 div.sk-estimator.fitted:hover {\n",
       "  /* fitted */\n",
       "  background-color: var(--sklearn-color-fitted-level-2);\n",
       "}\n",
       "\n",
       "/* Specification for estimator info (e.g. \"i\" and \"?\") */\n",
       "\n",
       "/* Common style for \"i\" and \"?\" */\n",
       "\n",
       ".sk-estimator-doc-link,\n",
       "a:link.sk-estimator-doc-link,\n",
       "a:visited.sk-estimator-doc-link {\n",
       "  float: right;\n",
       "  font-size: smaller;\n",
       "  line-height: 1em;\n",
       "  font-family: monospace;\n",
       "  background-color: var(--sklearn-color-background);\n",
       "  border-radius: 1em;\n",
       "  height: 1em;\n",
       "  width: 1em;\n",
       "  text-decoration: none !important;\n",
       "  margin-left: 1ex;\n",
       "  /* unfitted */\n",
       "  border: var(--sklearn-color-unfitted-level-1) 1pt solid;\n",
       "  color: var(--sklearn-color-unfitted-level-1);\n",
       "}\n",
       "\n",
       ".sk-estimator-doc-link.fitted,\n",
       "a:link.sk-estimator-doc-link.fitted,\n",
       "a:visited.sk-estimator-doc-link.fitted {\n",
       "  /* fitted */\n",
       "  border: var(--sklearn-color-fitted-level-1) 1pt solid;\n",
       "  color: var(--sklearn-color-fitted-level-1);\n",
       "}\n",
       "\n",
       "/* On hover */\n",
       "div.sk-estimator:hover .sk-estimator-doc-link:hover,\n",
       ".sk-estimator-doc-link:hover,\n",
       "div.sk-label-container:hover .sk-estimator-doc-link:hover,\n",
       ".sk-estimator-doc-link:hover {\n",
       "  /* unfitted */\n",
       "  background-color: var(--sklearn-color-unfitted-level-3);\n",
       "  color: var(--sklearn-color-background);\n",
       "  text-decoration: none;\n",
       "}\n",
       "\n",
       "div.sk-estimator.fitted:hover .sk-estimator-doc-link.fitted:hover,\n",
       ".sk-estimator-doc-link.fitted:hover,\n",
       "div.sk-label-container:hover .sk-estimator-doc-link.fitted:hover,\n",
       ".sk-estimator-doc-link.fitted:hover {\n",
       "  /* fitted */\n",
       "  background-color: var(--sklearn-color-fitted-level-3);\n",
       "  color: var(--sklearn-color-background);\n",
       "  text-decoration: none;\n",
       "}\n",
       "\n",
       "/* Span, style for the box shown on hovering the info icon */\n",
       ".sk-estimator-doc-link span {\n",
       "  display: none;\n",
       "  z-index: 9999;\n",
       "  position: relative;\n",
       "  font-weight: normal;\n",
       "  right: .2ex;\n",
       "  padding: .5ex;\n",
       "  margin: .5ex;\n",
       "  width: min-content;\n",
       "  min-width: 20ex;\n",
       "  max-width: 50ex;\n",
       "  color: var(--sklearn-color-text);\n",
       "  box-shadow: 2pt 2pt 4pt #999;\n",
       "  /* unfitted */\n",
       "  background: var(--sklearn-color-unfitted-level-0);\n",
       "  border: .5pt solid var(--sklearn-color-unfitted-level-3);\n",
       "}\n",
       "\n",
       ".sk-estimator-doc-link.fitted span {\n",
       "  /* fitted */\n",
       "  background: var(--sklearn-color-fitted-level-0);\n",
       "  border: var(--sklearn-color-fitted-level-3);\n",
       "}\n",
       "\n",
       ".sk-estimator-doc-link:hover span {\n",
       "  display: block;\n",
       "}\n",
       "\n",
       "/* \"?\"-specific style due to the `<a>` HTML tag */\n",
       "\n",
       "#sk-container-id-1 a.estimator_doc_link {\n",
       "  float: right;\n",
       "  font-size: 1rem;\n",
       "  line-height: 1em;\n",
       "  font-family: monospace;\n",
       "  background-color: var(--sklearn-color-background);\n",
       "  border-radius: 1rem;\n",
       "  height: 1rem;\n",
       "  width: 1rem;\n",
       "  text-decoration: none;\n",
       "  /* unfitted */\n",
       "  color: var(--sklearn-color-unfitted-level-1);\n",
       "  border: var(--sklearn-color-unfitted-level-1) 1pt solid;\n",
       "}\n",
       "\n",
       "#sk-container-id-1 a.estimator_doc_link.fitted {\n",
       "  /* fitted */\n",
       "  border: var(--sklearn-color-fitted-level-1) 1pt solid;\n",
       "  color: var(--sklearn-color-fitted-level-1);\n",
       "}\n",
       "\n",
       "/* On hover */\n",
       "#sk-container-id-1 a.estimator_doc_link:hover {\n",
       "  /* unfitted */\n",
       "  background-color: var(--sklearn-color-unfitted-level-3);\n",
       "  color: var(--sklearn-color-background);\n",
       "  text-decoration: none;\n",
       "}\n",
       "\n",
       "#sk-container-id-1 a.estimator_doc_link.fitted:hover {\n",
       "  /* fitted */\n",
       "  background-color: var(--sklearn-color-fitted-level-3);\n",
       "}\n",
       "</style><div id=\"sk-container-id-1\" class=\"sk-top-container\"><div class=\"sk-text-repr-fallback\"><pre>XGBRegressor(base_score=415.92946756204043, booster=None, callbacks=None,\n",
       "             colsample_bylevel=None, colsample_bynode=None,\n",
       "             colsample_bytree=None, device=None, early_stopping_rounds=None,\n",
       "             enable_categorical=False, eval_metric=None, feature_types=None,\n",
       "             gamma=None, grow_policy=None, importance_type=None,\n",
       "             interaction_constraints=None, learning_rate=None, max_bin=None,\n",
       "             max_cat_threshold=None, max_cat_to_onehot=None,\n",
       "             max_delta_step=None, max_depth=None, max_leaves=None,\n",
       "             min_child_weight=None, missing=nan, monotone_constraints=None,\n",
       "             multi_strategy=None, n_estimators=None, n_jobs=None,\n",
       "             num_parallel_tree=None, objective=&#x27;count:poisson&#x27;, ...)</pre><b>In a Jupyter environment, please rerun this cell to show the HTML representation or trust the notebook. <br />On GitHub, the HTML representation is unable to render, please try loading this page with nbviewer.org.</b></div><div class=\"sk-container\" hidden><div class=\"sk-item\"><div class=\"sk-estimator fitted sk-toggleable\"><input class=\"sk-toggleable__control sk-hidden--visually\" id=\"sk-estimator-id-1\" type=\"checkbox\" checked><label for=\"sk-estimator-id-1\" class=\"sk-toggleable__label fitted sk-toggleable__label-arrow fitted\">&nbsp;XGBRegressor<span class=\"sk-estimator-doc-link fitted\">i<span>Fitted</span></span></label><div class=\"sk-toggleable__content fitted\"><pre>XGBRegressor(base_score=415.92946756204043, booster=None, callbacks=None,\n",
       "             colsample_bylevel=None, colsample_bynode=None,\n",
       "             colsample_bytree=None, device=None, early_stopping_rounds=None,\n",
       "             enable_categorical=False, eval_metric=None, feature_types=None,\n",
       "             gamma=None, grow_policy=None, importance_type=None,\n",
       "             interaction_constraints=None, learning_rate=None, max_bin=None,\n",
       "             max_cat_threshold=None, max_cat_to_onehot=None,\n",
       "             max_delta_step=None, max_depth=None, max_leaves=None,\n",
       "             min_child_weight=None, missing=nan, monotone_constraints=None,\n",
       "             multi_strategy=None, n_estimators=None, n_jobs=None,\n",
       "             num_parallel_tree=None, objective=&#x27;count:poisson&#x27;, ...)</pre></div> </div></div></div></div>"
      ],
      "text/plain": [
       "XGBRegressor(base_score=415.92946756204043, booster=None, callbacks=None,\n",
       "             colsample_bylevel=None, colsample_bynode=None,\n",
       "             colsample_bytree=None, device=None, early_stopping_rounds=None,\n",
       "             enable_categorical=False, eval_metric=None, feature_types=None,\n",
       "             gamma=None, grow_policy=None, importance_type=None,\n",
       "             interaction_constraints=None, learning_rate=None, max_bin=None,\n",
       "             max_cat_threshold=None, max_cat_to_onehot=None,\n",
       "             max_delta_step=None, max_depth=None, max_leaves=None,\n",
       "             min_child_weight=None, missing=nan, monotone_constraints=None,\n",
       "             multi_strategy=None, n_estimators=None, n_jobs=None,\n",
       "             num_parallel_tree=None, objective='count:poisson', ...)"
      ]
     },
     "execution_count": 25,
     "metadata": {},
     "output_type": "execute_result"
    }
   ],
   "source": [
    "xgb_model = XGBRegressor(objective=\"count:poisson\", base_score=base_score, random_state=0)\n",
    "xgb_model.fit(X_train, y_train)"
   ]
  },
  {
   "cell_type": "markdown",
   "id": "f550756d-3a52-401d-8cfb-a9985d30e5d5",
   "metadata": {},
   "source": [
    "# Evaluating the XGBoost model"
   ]
  },
  {
   "cell_type": "markdown",
   "id": "a3b756a0-620c-45cc-8640-ab326c02a408",
   "metadata": {},
   "source": [
    "Calculating variance"
   ]
  },
  {
   "cell_type": "code",
   "execution_count": 26,
   "id": "7f6c5348-ef76-4244-a474-cae86a6067f7",
   "metadata": {},
   "outputs": [
    {
     "name": "stdout",
     "output_type": "stream",
     "text": [
      "Variance: 165408.03545859834\n"
     ]
    }
   ],
   "source": [
    "variance = np.var(y_test)\n",
    "print(f\"Variance: {variance}\")"
   ]
  },
  {
   "cell_type": "markdown",
   "id": "dba5ef02-435c-4070-8069-1a3fe72063c3",
   "metadata": {},
   "source": [
    "Calculating a baseline prediction"
   ]
  },
  {
   "cell_type": "code",
   "execution_count": 27,
   "id": "d6b2abf6-b10f-413c-9b74-531f9dd9e644",
   "metadata": {},
   "outputs": [
    {
     "name": "stdout",
     "output_type": "stream",
     "text": [
      "Baseline mean squared error: 165412.25990601612\n"
     ]
    }
   ],
   "source": [
    "baseline_pred = np.full_like(y_test, np.mean(y_train))\n",
    "baseline_mse = mean_squared_error(y_test, baseline_pred)\n",
    "print(f\"Baseline mean squared error: {baseline_mse}\")"
   ]
  },
  {
   "cell_type": "markdown",
   "id": "1fc2e7af-477d-4dd6-b849-1320dc9b3252",
   "metadata": {},
   "source": [
    "Predicting test data"
   ]
  },
  {
   "cell_type": "code",
   "execution_count": 28,
   "id": "8fff2b9f-5aa9-4925-9c52-3162c5df932e",
   "metadata": {},
   "outputs": [],
   "source": [
    "y_pred = xgb_model.predict(X_test)"
   ]
  },
  {
   "cell_type": "markdown",
   "id": "07ae01c6-fa7a-427d-af7b-5d17d78713ef",
   "metadata": {},
   "source": [
    "Calculating model's mean squared error"
   ]
  },
  {
   "cell_type": "code",
   "execution_count": 29,
   "id": "9c48218f-4c01-40ec-b500-fc69089e7b8d",
   "metadata": {},
   "outputs": [
    {
     "name": "stdout",
     "output_type": "stream",
     "text": [
      "Model's mean squared error: 9505.974453519078\n"
     ]
    }
   ],
   "source": [
    "mse = mean_squared_error(y_test, y_pred)\n",
    "print(f\"Model's mean squared error: {mse}\")"
   ]
  },
  {
   "cell_type": "markdown",
   "id": "85daea2e-ce98-44cb-a5ee-140f39163749",
   "metadata": {},
   "source": [
    "Considering the variance of the test set and the baseline mean squared error, the model's mean squared error is significantly lower, indicating that the model performs satisfactorily and provides meaningful predictions compared to the baseline."
   ]
  },
  {
   "cell_type": "markdown",
   "id": "30c2ab66-cb58-45b3-8a19-533427e8f667",
   "metadata": {},
   "source": [
    "Calculating model's mean squared logarithmic error"
   ]
  },
  {
   "cell_type": "code",
   "execution_count": 30,
   "id": "b6a3d839-4984-4563-9f91-629b3275271b",
   "metadata": {},
   "outputs": [
    {
     "name": "stdout",
     "output_type": "stream",
     "text": [
      "Model's mean squared logarithmic error: 0.15937568466626098\n"
     ]
    }
   ],
   "source": [
    "msle = mean_squared_log_error(y_test, y_pred)\n",
    "print(f\"Model's mean squared logarithmic error: {msle}\")"
   ]
  },
  {
   "cell_type": "markdown",
   "id": "0bb46c61-0b41-4202-aaf7-c586804b56f9",
   "metadata": {},
   "source": [
    "Calculating model's root mean squared logarithmic error"
   ]
  },
  {
   "cell_type": "code",
   "execution_count": 31,
   "id": "494bb8b4-875b-4d96-8ff5-7422f2cc61fe",
   "metadata": {},
   "outputs": [
    {
     "name": "stdout",
     "output_type": "stream",
     "text": [
      "Model's root mean squared logarithmic error: 0.39921884307514965\n"
     ]
    }
   ],
   "source": [
    "rmsle = np.sqrt(msle)\n",
    "print(f\"Model's root mean squared logarithmic error: {rmsle}\")"
   ]
  },
  {
   "cell_type": "markdown",
   "id": "1076901f-5153-4e3b-942f-09f9dda11ca6",
   "metadata": {},
   "source": [
    "# Preparing data for random forest regression model"
   ]
  },
  {
   "cell_type": "markdown",
   "id": "274c4d30-77ef-4fdb-a4b8-c9b19e91a9b2",
   "metadata": {},
   "source": [
    "One hot encoding categorical columns"
   ]
  },
  {
   "cell_type": "code",
   "execution_count": 32,
   "id": "3c1de860-efd0-4878-aef2-f3a0573ba2ae",
   "metadata": {},
   "outputs": [],
   "source": [
    "one_hot_encoded_columns = [\"season\", \"weather\", \"dayofweek\"]\n",
    "\n",
    "for feature in one_hot_encoded_columns:\n",
    "    one_hot_encoded_feature = pd.get_dummies(data_modified[feature], prefix=feature)\n",
    "    data_modified = pd.concat([data_modified, one_hot_encoded_feature], axis=1)\n",
    "    data_modified.drop(feature, inplace=True, axis=1)"
   ]
  },
  {
   "cell_type": "markdown",
   "id": "205d91a6-1028-4d88-aa90-31198da74323",
   "metadata": {},
   "source": [
    "# Splitting data for training and testing"
   ]
  },
  {
   "cell_type": "markdown",
   "id": "a7e91b37-b536-4130-82ca-1d0d6bc33f34",
   "metadata": {},
   "source": [
    "Splitting data into features (X) and target (y)"
   ]
  },
  {
   "cell_type": "code",
   "execution_count": 661,
   "id": "5ec00af2-c880-4548-90d9-bc4d4209fac3",
   "metadata": {},
   "outputs": [],
   "source": [
    "X = data_modified.drop(\"count\", axis=1)\n",
    "y = data_modified[\"count\"]"
   ]
  },
  {
   "cell_type": "markdown",
   "id": "ee9e03ac-9e63-48b8-b612-75b03b8075cf",
   "metadata": {},
   "source": [
    "Splitting data into training and testing sets. Training set is for training the models and testing set is for evaluating the models"
   ]
  },
  {
   "cell_type": "code",
   "execution_count": 662,
   "id": "f4fd08b7-b2dd-452d-aecb-6a23b8cdabf2",
   "metadata": {},
   "outputs": [],
   "source": [
    "X_train, X_test, y_train, y_test = train_test_split(X, y, test_size=0.2, random_state=0)"
   ]
  },
  {
   "cell_type": "markdown",
   "id": "75919e58-66be-45ee-bf90-95907b0b5e97",
   "metadata": {},
   "source": [
    "# Training a random forest regression model"
   ]
  },
  {
   "cell_type": "markdown",
   "id": "b62e57ff-4ce1-4978-8e54-77dc94a38f10",
   "metadata": {},
   "source": [
    "Creating a model and training it. We also used gridsearch for hyperparameter tuning (in *kaggle_model.ipynb*), but found best results by just using default parameters."
   ]
  },
  {
   "cell_type": "code",
   "execution_count": 663,
   "id": "c4579d25-58ea-4989-9374-d7b62fcf5480",
   "metadata": {},
   "outputs": [
    {
     "data": {
      "text/html": [
       "<style>#sk-container-id-44 {\n",
       "  /* Definition of color scheme common for light and dark mode */\n",
       "  --sklearn-color-text: black;\n",
       "  --sklearn-color-line: gray;\n",
       "  /* Definition of color scheme for unfitted estimators */\n",
       "  --sklearn-color-unfitted-level-0: #fff5e6;\n",
       "  --sklearn-color-unfitted-level-1: #f6e4d2;\n",
       "  --sklearn-color-unfitted-level-2: #ffe0b3;\n",
       "  --sklearn-color-unfitted-level-3: chocolate;\n",
       "  /* Definition of color scheme for fitted estimators */\n",
       "  --sklearn-color-fitted-level-0: #f0f8ff;\n",
       "  --sklearn-color-fitted-level-1: #d4ebff;\n",
       "  --sklearn-color-fitted-level-2: #b3dbfd;\n",
       "  --sklearn-color-fitted-level-3: cornflowerblue;\n",
       "\n",
       "  /* Specific color for light theme */\n",
       "  --sklearn-color-text-on-default-background: var(--sg-text-color, var(--theme-code-foreground, var(--jp-content-font-color1, black)));\n",
       "  --sklearn-color-background: var(--sg-background-color, var(--theme-background, var(--jp-layout-color0, white)));\n",
       "  --sklearn-color-border-box: var(--sg-text-color, var(--theme-code-foreground, var(--jp-content-font-color1, black)));\n",
       "  --sklearn-color-icon: #696969;\n",
       "\n",
       "  @media (prefers-color-scheme: dark) {\n",
       "    /* Redefinition of color scheme for dark theme */\n",
       "    --sklearn-color-text-on-default-background: var(--sg-text-color, var(--theme-code-foreground, var(--jp-content-font-color1, white)));\n",
       "    --sklearn-color-background: var(--sg-background-color, var(--theme-background, var(--jp-layout-color0, #111)));\n",
       "    --sklearn-color-border-box: var(--sg-text-color, var(--theme-code-foreground, var(--jp-content-font-color1, white)));\n",
       "    --sklearn-color-icon: #878787;\n",
       "  }\n",
       "}\n",
       "\n",
       "#sk-container-id-44 {\n",
       "  color: var(--sklearn-color-text);\n",
       "}\n",
       "\n",
       "#sk-container-id-44 pre {\n",
       "  padding: 0;\n",
       "}\n",
       "\n",
       "#sk-container-id-44 input.sk-hidden--visually {\n",
       "  border: 0;\n",
       "  clip: rect(1px 1px 1px 1px);\n",
       "  clip: rect(1px, 1px, 1px, 1px);\n",
       "  height: 1px;\n",
       "  margin: -1px;\n",
       "  overflow: hidden;\n",
       "  padding: 0;\n",
       "  position: absolute;\n",
       "  width: 1px;\n",
       "}\n",
       "\n",
       "#sk-container-id-44 div.sk-dashed-wrapped {\n",
       "  border: 1px dashed var(--sklearn-color-line);\n",
       "  margin: 0 0.4em 0.5em 0.4em;\n",
       "  box-sizing: border-box;\n",
       "  padding-bottom: 0.4em;\n",
       "  background-color: var(--sklearn-color-background);\n",
       "}\n",
       "\n",
       "#sk-container-id-44 div.sk-container {\n",
       "  /* jupyter's `normalize.less` sets `[hidden] { display: none; }`\n",
       "     but bootstrap.min.css set `[hidden] { display: none !important; }`\n",
       "     so we also need the `!important` here to be able to override the\n",
       "     default hidden behavior on the sphinx rendered scikit-learn.org.\n",
       "     See: https://github.com/scikit-learn/scikit-learn/issues/21755 */\n",
       "  display: inline-block !important;\n",
       "  position: relative;\n",
       "}\n",
       "\n",
       "#sk-container-id-44 div.sk-text-repr-fallback {\n",
       "  display: none;\n",
       "}\n",
       "\n",
       "div.sk-parallel-item,\n",
       "div.sk-serial,\n",
       "div.sk-item {\n",
       "  /* draw centered vertical line to link estimators */\n",
       "  background-image: linear-gradient(var(--sklearn-color-text-on-default-background), var(--sklearn-color-text-on-default-background));\n",
       "  background-size: 2px 100%;\n",
       "  background-repeat: no-repeat;\n",
       "  background-position: center center;\n",
       "}\n",
       "\n",
       "/* Parallel-specific style estimator block */\n",
       "\n",
       "#sk-container-id-44 div.sk-parallel-item::after {\n",
       "  content: \"\";\n",
       "  width: 100%;\n",
       "  border-bottom: 2px solid var(--sklearn-color-text-on-default-background);\n",
       "  flex-grow: 1;\n",
       "}\n",
       "\n",
       "#sk-container-id-44 div.sk-parallel {\n",
       "  display: flex;\n",
       "  align-items: stretch;\n",
       "  justify-content: center;\n",
       "  background-color: var(--sklearn-color-background);\n",
       "  position: relative;\n",
       "}\n",
       "\n",
       "#sk-container-id-44 div.sk-parallel-item {\n",
       "  display: flex;\n",
       "  flex-direction: column;\n",
       "}\n",
       "\n",
       "#sk-container-id-44 div.sk-parallel-item:first-child::after {\n",
       "  align-self: flex-end;\n",
       "  width: 50%;\n",
       "}\n",
       "\n",
       "#sk-container-id-44 div.sk-parallel-item:last-child::after {\n",
       "  align-self: flex-start;\n",
       "  width: 50%;\n",
       "}\n",
       "\n",
       "#sk-container-id-44 div.sk-parallel-item:only-child::after {\n",
       "  width: 0;\n",
       "}\n",
       "\n",
       "/* Serial-specific style estimator block */\n",
       "\n",
       "#sk-container-id-44 div.sk-serial {\n",
       "  display: flex;\n",
       "  flex-direction: column;\n",
       "  align-items: center;\n",
       "  background-color: var(--sklearn-color-background);\n",
       "  padding-right: 1em;\n",
       "  padding-left: 1em;\n",
       "}\n",
       "\n",
       "\n",
       "/* Toggleable style: style used for estimator/Pipeline/ColumnTransformer box that is\n",
       "clickable and can be expanded/collapsed.\n",
       "- Pipeline and ColumnTransformer use this feature and define the default style\n",
       "- Estimators will overwrite some part of the style using the `sk-estimator` class\n",
       "*/\n",
       "\n",
       "/* Pipeline and ColumnTransformer style (default) */\n",
       "\n",
       "#sk-container-id-44 div.sk-toggleable {\n",
       "  /* Default theme specific background. It is overwritten whether we have a\n",
       "  specific estimator or a Pipeline/ColumnTransformer */\n",
       "  background-color: var(--sklearn-color-background);\n",
       "}\n",
       "\n",
       "/* Toggleable label */\n",
       "#sk-container-id-44 label.sk-toggleable__label {\n",
       "  cursor: pointer;\n",
       "  display: block;\n",
       "  width: 100%;\n",
       "  margin-bottom: 0;\n",
       "  padding: 0.5em;\n",
       "  box-sizing: border-box;\n",
       "  text-align: center;\n",
       "}\n",
       "\n",
       "#sk-container-id-44 label.sk-toggleable__label-arrow:before {\n",
       "  /* Arrow on the left of the label */\n",
       "  content: \"▸\";\n",
       "  float: left;\n",
       "  margin-right: 0.25em;\n",
       "  color: var(--sklearn-color-icon);\n",
       "}\n",
       "\n",
       "#sk-container-id-44 label.sk-toggleable__label-arrow:hover:before {\n",
       "  color: var(--sklearn-color-text);\n",
       "}\n",
       "\n",
       "/* Toggleable content - dropdown */\n",
       "\n",
       "#sk-container-id-44 div.sk-toggleable__content {\n",
       "  max-height: 0;\n",
       "  max-width: 0;\n",
       "  overflow: hidden;\n",
       "  text-align: left;\n",
       "  /* unfitted */\n",
       "  background-color: var(--sklearn-color-unfitted-level-0);\n",
       "}\n",
       "\n",
       "#sk-container-id-44 div.sk-toggleable__content.fitted {\n",
       "  /* fitted */\n",
       "  background-color: var(--sklearn-color-fitted-level-0);\n",
       "}\n",
       "\n",
       "#sk-container-id-44 div.sk-toggleable__content pre {\n",
       "  margin: 0.2em;\n",
       "  border-radius: 0.25em;\n",
       "  color: var(--sklearn-color-text);\n",
       "  /* unfitted */\n",
       "  background-color: var(--sklearn-color-unfitted-level-0);\n",
       "}\n",
       "\n",
       "#sk-container-id-44 div.sk-toggleable__content.fitted pre {\n",
       "  /* unfitted */\n",
       "  background-color: var(--sklearn-color-fitted-level-0);\n",
       "}\n",
       "\n",
       "#sk-container-id-44 input.sk-toggleable__control:checked~div.sk-toggleable__content {\n",
       "  /* Expand drop-down */\n",
       "  max-height: 200px;\n",
       "  max-width: 100%;\n",
       "  overflow: auto;\n",
       "}\n",
       "\n",
       "#sk-container-id-44 input.sk-toggleable__control:checked~label.sk-toggleable__label-arrow:before {\n",
       "  content: \"▾\";\n",
       "}\n",
       "\n",
       "/* Pipeline/ColumnTransformer-specific style */\n",
       "\n",
       "#sk-container-id-44 div.sk-label input.sk-toggleable__control:checked~label.sk-toggleable__label {\n",
       "  color: var(--sklearn-color-text);\n",
       "  background-color: var(--sklearn-color-unfitted-level-2);\n",
       "}\n",
       "\n",
       "#sk-container-id-44 div.sk-label.fitted input.sk-toggleable__control:checked~label.sk-toggleable__label {\n",
       "  background-color: var(--sklearn-color-fitted-level-2);\n",
       "}\n",
       "\n",
       "/* Estimator-specific style */\n",
       "\n",
       "/* Colorize estimator box */\n",
       "#sk-container-id-44 div.sk-estimator input.sk-toggleable__control:checked~label.sk-toggleable__label {\n",
       "  /* unfitted */\n",
       "  background-color: var(--sklearn-color-unfitted-level-2);\n",
       "}\n",
       "\n",
       "#sk-container-id-44 div.sk-estimator.fitted input.sk-toggleable__control:checked~label.sk-toggleable__label {\n",
       "  /* fitted */\n",
       "  background-color: var(--sklearn-color-fitted-level-2);\n",
       "}\n",
       "\n",
       "#sk-container-id-44 div.sk-label label.sk-toggleable__label,\n",
       "#sk-container-id-44 div.sk-label label {\n",
       "  /* The background is the default theme color */\n",
       "  color: var(--sklearn-color-text-on-default-background);\n",
       "}\n",
       "\n",
       "/* On hover, darken the color of the background */\n",
       "#sk-container-id-44 div.sk-label:hover label.sk-toggleable__label {\n",
       "  color: var(--sklearn-color-text);\n",
       "  background-color: var(--sklearn-color-unfitted-level-2);\n",
       "}\n",
       "\n",
       "/* Label box, darken color on hover, fitted */\n",
       "#sk-container-id-44 div.sk-label.fitted:hover label.sk-toggleable__label.fitted {\n",
       "  color: var(--sklearn-color-text);\n",
       "  background-color: var(--sklearn-color-fitted-level-2);\n",
       "}\n",
       "\n",
       "/* Estimator label */\n",
       "\n",
       "#sk-container-id-44 div.sk-label label {\n",
       "  font-family: monospace;\n",
       "  font-weight: bold;\n",
       "  display: inline-block;\n",
       "  line-height: 1.2em;\n",
       "}\n",
       "\n",
       "#sk-container-id-44 div.sk-label-container {\n",
       "  text-align: center;\n",
       "}\n",
       "\n",
       "/* Estimator-specific */\n",
       "#sk-container-id-44 div.sk-estimator {\n",
       "  font-family: monospace;\n",
       "  border: 1px dotted var(--sklearn-color-border-box);\n",
       "  border-radius: 0.25em;\n",
       "  box-sizing: border-box;\n",
       "  margin-bottom: 0.5em;\n",
       "  /* unfitted */\n",
       "  background-color: var(--sklearn-color-unfitted-level-0);\n",
       "}\n",
       "\n",
       "#sk-container-id-44 div.sk-estimator.fitted {\n",
       "  /* fitted */\n",
       "  background-color: var(--sklearn-color-fitted-level-0);\n",
       "}\n",
       "\n",
       "/* on hover */\n",
       "#sk-container-id-44 div.sk-estimator:hover {\n",
       "  /* unfitted */\n",
       "  background-color: var(--sklearn-color-unfitted-level-2);\n",
       "}\n",
       "\n",
       "#sk-container-id-44 div.sk-estimator.fitted:hover {\n",
       "  /* fitted */\n",
       "  background-color: var(--sklearn-color-fitted-level-2);\n",
       "}\n",
       "\n",
       "/* Specification for estimator info (e.g. \"i\" and \"?\") */\n",
       "\n",
       "/* Common style for \"i\" and \"?\" */\n",
       "\n",
       ".sk-estimator-doc-link,\n",
       "a:link.sk-estimator-doc-link,\n",
       "a:visited.sk-estimator-doc-link {\n",
       "  float: right;\n",
       "  font-size: smaller;\n",
       "  line-height: 1em;\n",
       "  font-family: monospace;\n",
       "  background-color: var(--sklearn-color-background);\n",
       "  border-radius: 1em;\n",
       "  height: 1em;\n",
       "  width: 1em;\n",
       "  text-decoration: none !important;\n",
       "  margin-left: 1ex;\n",
       "  /* unfitted */\n",
       "  border: var(--sklearn-color-unfitted-level-1) 1pt solid;\n",
       "  color: var(--sklearn-color-unfitted-level-1);\n",
       "}\n",
       "\n",
       ".sk-estimator-doc-link.fitted,\n",
       "a:link.sk-estimator-doc-link.fitted,\n",
       "a:visited.sk-estimator-doc-link.fitted {\n",
       "  /* fitted */\n",
       "  border: var(--sklearn-color-fitted-level-1) 1pt solid;\n",
       "  color: var(--sklearn-color-fitted-level-1);\n",
       "}\n",
       "\n",
       "/* On hover */\n",
       "div.sk-estimator:hover .sk-estimator-doc-link:hover,\n",
       ".sk-estimator-doc-link:hover,\n",
       "div.sk-label-container:hover .sk-estimator-doc-link:hover,\n",
       ".sk-estimator-doc-link:hover {\n",
       "  /* unfitted */\n",
       "  background-color: var(--sklearn-color-unfitted-level-3);\n",
       "  color: var(--sklearn-color-background);\n",
       "  text-decoration: none;\n",
       "}\n",
       "\n",
       "div.sk-estimator.fitted:hover .sk-estimator-doc-link.fitted:hover,\n",
       ".sk-estimator-doc-link.fitted:hover,\n",
       "div.sk-label-container:hover .sk-estimator-doc-link.fitted:hover,\n",
       ".sk-estimator-doc-link.fitted:hover {\n",
       "  /* fitted */\n",
       "  background-color: var(--sklearn-color-fitted-level-3);\n",
       "  color: var(--sklearn-color-background);\n",
       "  text-decoration: none;\n",
       "}\n",
       "\n",
       "/* Span, style for the box shown on hovering the info icon */\n",
       ".sk-estimator-doc-link span {\n",
       "  display: none;\n",
       "  z-index: 9999;\n",
       "  position: relative;\n",
       "  font-weight: normal;\n",
       "  right: .2ex;\n",
       "  padding: .5ex;\n",
       "  margin: .5ex;\n",
       "  width: min-content;\n",
       "  min-width: 20ex;\n",
       "  max-width: 50ex;\n",
       "  color: var(--sklearn-color-text);\n",
       "  box-shadow: 2pt 2pt 4pt #999;\n",
       "  /* unfitted */\n",
       "  background: var(--sklearn-color-unfitted-level-0);\n",
       "  border: .5pt solid var(--sklearn-color-unfitted-level-3);\n",
       "}\n",
       "\n",
       ".sk-estimator-doc-link.fitted span {\n",
       "  /* fitted */\n",
       "  background: var(--sklearn-color-fitted-level-0);\n",
       "  border: var(--sklearn-color-fitted-level-3);\n",
       "}\n",
       "\n",
       ".sk-estimator-doc-link:hover span {\n",
       "  display: block;\n",
       "}\n",
       "\n",
       "/* \"?\"-specific style due to the `<a>` HTML tag */\n",
       "\n",
       "#sk-container-id-44 a.estimator_doc_link {\n",
       "  float: right;\n",
       "  font-size: 1rem;\n",
       "  line-height: 1em;\n",
       "  font-family: monospace;\n",
       "  background-color: var(--sklearn-color-background);\n",
       "  border-radius: 1rem;\n",
       "  height: 1rem;\n",
       "  width: 1rem;\n",
       "  text-decoration: none;\n",
       "  /* unfitted */\n",
       "  color: var(--sklearn-color-unfitted-level-1);\n",
       "  border: var(--sklearn-color-unfitted-level-1) 1pt solid;\n",
       "}\n",
       "\n",
       "#sk-container-id-44 a.estimator_doc_link.fitted {\n",
       "  /* fitted */\n",
       "  border: var(--sklearn-color-fitted-level-1) 1pt solid;\n",
       "  color: var(--sklearn-color-fitted-level-1);\n",
       "}\n",
       "\n",
       "/* On hover */\n",
       "#sk-container-id-44 a.estimator_doc_link:hover {\n",
       "  /* unfitted */\n",
       "  background-color: var(--sklearn-color-unfitted-level-3);\n",
       "  color: var(--sklearn-color-background);\n",
       "  text-decoration: none;\n",
       "}\n",
       "\n",
       "#sk-container-id-44 a.estimator_doc_link.fitted:hover {\n",
       "  /* fitted */\n",
       "  background-color: var(--sklearn-color-fitted-level-3);\n",
       "}\n",
       "</style><div id=\"sk-container-id-44\" class=\"sk-top-container\"><div class=\"sk-text-repr-fallback\"><pre>RandomForestRegressor(n_jobs=-1, random_state=0)</pre><b>In a Jupyter environment, please rerun this cell to show the HTML representation or trust the notebook. <br />On GitHub, the HTML representation is unable to render, please try loading this page with nbviewer.org.</b></div><div class=\"sk-container\" hidden><div class=\"sk-item\"><div class=\"sk-estimator fitted sk-toggleable\"><input class=\"sk-toggleable__control sk-hidden--visually\" id=\"sk-estimator-id-44\" type=\"checkbox\" checked><label for=\"sk-estimator-id-44\" class=\"sk-toggleable__label fitted sk-toggleable__label-arrow fitted\">&nbsp;&nbsp;RandomForestRegressor<a class=\"sk-estimator-doc-link fitted\" rel=\"noreferrer\" target=\"_blank\" href=\"https://scikit-learn.org/1.5/modules/generated/sklearn.ensemble.RandomForestRegressor.html\">?<span>Documentation for RandomForestRegressor</span></a><span class=\"sk-estimator-doc-link fitted\">i<span>Fitted</span></span></label><div class=\"sk-toggleable__content fitted\"><pre>RandomForestRegressor(n_jobs=-1, random_state=0)</pre></div> </div></div></div></div>"
      ],
      "text/plain": [
       "RandomForestRegressor(n_jobs=-1, random_state=0)"
      ]
     },
     "execution_count": 663,
     "metadata": {},
     "output_type": "execute_result"
    }
   ],
   "source": [
    "rf = RandomForestRegressor(random_state=0, n_jobs=-1)\n",
    "rf.fit(X_train, y_train)"
   ]
  },
  {
   "cell_type": "markdown",
   "id": "ec35177f-69ec-4ae3-887e-17091021d9cf",
   "metadata": {},
   "source": [
    "# Evaluating the random forest regression model"
   ]
  },
  {
   "cell_type": "markdown",
   "id": "625cf82d-001d-4b75-a87e-6ce026066138",
   "metadata": {},
   "source": [
    "Predicting test data"
   ]
  },
  {
   "cell_type": "code",
   "execution_count": 664,
   "id": "69ede990-e0ea-4745-89e0-19b7b2a30c12",
   "metadata": {},
   "outputs": [],
   "source": [
    "y_pred = rf.predict(X_test)"
   ]
  },
  {
   "cell_type": "markdown",
   "id": "115722a6-fed8-4831-b4a1-1ea78a451227",
   "metadata": {},
   "source": [
    "Calculating model's mean squared error"
   ]
  },
  {
   "cell_type": "code",
   "execution_count": 665,
   "id": "95bd8441-13e3-4788-a50e-cbb861eaaa4a",
   "metadata": {},
   "outputs": [
    {
     "name": "stdout",
     "output_type": "stream",
     "text": [
      "Model's mean squared error: 10251.710185014794\n"
     ]
    }
   ],
   "source": [
    "mse = mean_squared_error(y_test, y_pred)\n",
    "print(f\"Model's mean squared error: {mse}\")"
   ]
  },
  {
   "cell_type": "markdown",
   "id": "7f77650a-8231-4bf9-8315-0664a15a3040",
   "metadata": {},
   "source": [
    "Calculating model's mean squared logarithmic error"
   ]
  },
  {
   "cell_type": "code",
   "execution_count": 666,
   "id": "d03086a8-f598-4f25-a358-641f2191b30e",
   "metadata": {},
   "outputs": [
    {
     "name": "stdout",
     "output_type": "stream",
     "text": [
      "Model's mean squared logarithmic error: 0.1596628873445851\n"
     ]
    }
   ],
   "source": [
    "msle = mean_squared_log_error(y_test, y_pred)\n",
    "print(f\"Model's mean squared logarithmic error: {msle}\")"
   ]
  },
  {
   "cell_type": "markdown",
   "id": "0289db9a-c185-463d-89ab-61415dabc0a8",
   "metadata": {},
   "source": [
    "Calculating model's root mean squared logarithmic error"
   ]
  },
  {
   "cell_type": "code",
   "execution_count": 667,
   "id": "44dc7d7e-6117-4212-aece-db4dbcf7c837",
   "metadata": {},
   "outputs": [
    {
     "name": "stdout",
     "output_type": "stream",
     "text": [
      "Model's root mean squared logarithmic error: 0.3995783869838121\n"
     ]
    }
   ],
   "source": [
    "rmsle = np.sqrt(msle)\n",
    "print(f\"Model's root mean squared logarithmic error: {rmsle}\")"
   ]
  },
  {
   "cell_type": "markdown",
   "id": "bdca6681-850d-4288-a2a9-33c8ef8a8182",
   "metadata": {},
   "source": [
    "# Training a tensorflow model"
   ]
  },
  {
   "cell_type": "code",
   "execution_count": 668,
   "id": "26285f66-aa0c-42bd-a7a5-bc3aa1f8e75c",
   "metadata": {},
   "outputs": [],
   "source": [
    "X_tf = X.copy()"
   ]
  },
  {
   "cell_type": "markdown",
   "id": "010f876d-539b-4cb0-a5af-0dbec0593e1e",
   "metadata": {},
   "source": [
    "We applied a cyclical transformation to the \"*month*\" and \"*hour*\" columns to capture their periodic nature. This is important because certain values, such as hours 23 and 0, or months December and January, are as close to each other as any other consecutive values. Without this transformation, their relationship would not be properly represented in the model.\n",
    "\n",
    "The transformation uses sine and cosine functions to map these cyclical values onto a continuous circle, ensuring the model can interpret their periodicity. The original month and hour columns were dropped after the transformation."
   ]
  },
  {
   "cell_type": "code",
   "execution_count": 669,
   "id": "4bc5fb59-2912-44ea-b5fd-71f02a3bf58d",
   "metadata": {},
   "outputs": [],
   "source": [
    "X_tf[\"hour_sin\"] = np.sin(2 * np.pi * X_tf[\"hour\"] / 24)\n",
    "X_tf[\"hour_cos\"] = np.cos(2 * np.pi * X_tf[\"hour\"] / 24)\n",
    "\n",
    "X_tf[\"month_sin\"] = np.sin(2 * np.pi * X_tf[\"month\"] / 12)\n",
    "X_tf[\"month_cos\"] = np.cos(2 * np.pi * X_tf[\"month\"] / 12)"
   ]
  },
  {
   "cell_type": "code",
   "execution_count": 670,
   "id": "6c793c3b-1bb9-406d-9f00-305dffd16bfb",
   "metadata": {},
   "outputs": [],
   "source": [
    "X_tf.drop([\"month\", \"hour\"], inplace=True, axis=1)"
   ]
  },
  {
   "cell_type": "markdown",
   "id": "a58d5955-ef15-4b13-b681-f35f71c4507e",
   "metadata": {},
   "source": [
    "We scaled the features to standardize them with a mean of 0 and a standard deviation of 1. This is essential for TensorFlow models, as neural networks are sensitive to the scale of input data. Without scaling, training can be slower, less stable, and biased toward features with larger magnitudes."
   ]
  },
  {
   "cell_type": "code",
   "execution_count": 671,
   "id": "9af94f5f-bc01-4456-a76a-0685ca5180e7",
   "metadata": {},
   "outputs": [],
   "source": [
    "scaler = StandardScaler()\n",
    "X_tf = scaler.fit_transform(X_tf)"
   ]
  },
  {
   "cell_type": "code",
   "execution_count": 672,
   "id": "793f0679-5dbf-4931-9b8a-c520f07cd075",
   "metadata": {},
   "outputs": [],
   "source": [
    "y_tf = np.array(y).reshape(-1, 1)"
   ]
  },
  {
   "cell_type": "markdown",
   "id": "cd5b80d4-eae8-4669-97de-f762efdd38e4",
   "metadata": {},
   "source": [
    "Splitting data into training and testing sets"
   ]
  },
  {
   "cell_type": "code",
   "execution_count": 673,
   "id": "6f51e53e-7f03-44f6-a569-6aded30df5da",
   "metadata": {},
   "outputs": [],
   "source": [
    "X_train, X_test, y_train, y_test = train_test_split(X_tf, y_tf, test_size=0.2, random_state=0)"
   ]
  },
  {
   "cell_type": "markdown",
   "id": "70dded85-1e2f-43f2-bc5e-fc4a28fcf83c",
   "metadata": {},
   "source": [
    "Creating the model. To ensure predictions are always 0 or positive, we use an exponential activation function in the final layer. The model includes multiple dense layers with ReLU activation, batch normalization for stability, and dropout for regularization."
   ]
  },
  {
   "cell_type": "code",
   "execution_count": 674,
   "id": "6cc74a71-21e4-4c4a-a4a8-c787550fb5d7",
   "metadata": {},
   "outputs": [],
   "source": [
    "model = Sequential([\n",
    "    Input(shape=(X_train.shape[1],)),\n",
    "    Dense(128, activation='relu'),\n",
    "    BatchNormalization(),\n",
    "    Dropout(0.2),\n",
    "    Dense(64, activation=\"relu\"),\n",
    "    BatchNormalization(),\n",
    "    Dense(32, activation='relu'),\n",
    "    BatchNormalization(),\n",
    "    Dense(16, activation='relu'),\n",
    "    Dense(1, activation='exponential')\n",
    "])"
   ]
  },
  {
   "cell_type": "code",
   "execution_count": 675,
   "id": "b8aa3538-f984-4d9c-95db-7f5ce85ec220",
   "metadata": {},
   "outputs": [],
   "source": [
    "model.compile(optimizer='adam', loss='mean_squared_error', metrics=['mae'])"
   ]
  },
  {
   "cell_type": "markdown",
   "id": "95f87692-7fe8-4a4c-ba06-d5571cf0449c",
   "metadata": {},
   "source": [
    "Creating an early stopping function to prevent overfitting during training"
   ]
  },
  {
   "cell_type": "code",
   "execution_count": 676,
   "id": "fc86b053-2b4b-47dc-a788-49c8a9fae7e9",
   "metadata": {},
   "outputs": [],
   "source": [
    "early_stopping = EarlyStopping(monitor='val_loss', patience=20, restore_best_weights=True)"
   ]
  },
  {
   "cell_type": "markdown",
   "id": "d3cf010b-6658-4bf6-b6f6-ed22b814a113",
   "metadata": {},
   "source": [
    "Creating a function to reduce learning rate every 10 epochs."
   ]
  },
  {
   "cell_type": "code",
   "execution_count": 677,
   "id": "0015b9ad-957a-402c-9092-62374fae1754",
   "metadata": {},
   "outputs": [],
   "source": [
    "def lr_scheduler(epoch, lr):\n",
    "    if epoch % 10 == 0 and epoch > 0:\n",
    "        lr = lr * 0.9  # Reduce by 10% every 10 epochs\n",
    "    return lr\n",
    "\n",
    "lr_schedule = LearningRateScheduler(lr_scheduler)"
   ]
  },
  {
   "cell_type": "markdown",
   "id": "b2b02782-4d4f-4248-bf25-f6561aa59a89",
   "metadata": {},
   "source": [
    "Training the model"
   ]
  },
  {
   "cell_type": "code",
   "execution_count": 678,
   "id": "7527388b-859a-4c61-97fa-10cf96475e53",
   "metadata": {},
   "outputs": [
    {
     "name": "stdout",
     "output_type": "stream",
     "text": [
      "Epoch 1/200\n",
      "\u001b[1m1724/1724\u001b[0m \u001b[32m━━━━━━━━━━━━━━━━━━━━\u001b[0m\u001b[37m\u001b[0m \u001b[1m11s\u001b[0m 5ms/step - loss: 226601.3125 - mae: 324.5024 - val_loss: 65836.0156 - val_mae: 161.4161 - learning_rate: 0.0010\n",
      "Epoch 2/200\n",
      "\u001b[1m1724/1724\u001b[0m \u001b[32m━━━━━━━━━━━━━━━━━━━━\u001b[0m\u001b[37m\u001b[0m \u001b[1m6s\u001b[0m 3ms/step - loss: 63001.7852 - mae: 164.8329 - val_loss: 29298.2363 - val_mae: 109.4128 - learning_rate: 0.0010\n",
      "Epoch 3/200\n",
      "\u001b[1m1724/1724\u001b[0m \u001b[32m━━━━━━━━━━━━━━━━━━━━\u001b[0m\u001b[37m\u001b[0m \u001b[1m4s\u001b[0m 2ms/step - loss: 43368.0820 - mae: 137.0326 - val_loss: 26669.5000 - val_mae: 104.7171 - learning_rate: 0.0010\n",
      "Epoch 4/200\n",
      "\u001b[1m1724/1724\u001b[0m \u001b[32m━━━━━━━━━━━━━━━━━━━━\u001b[0m\u001b[37m\u001b[0m \u001b[1m5s\u001b[0m 3ms/step - loss: 36863.9531 - mae: 125.7334 - val_loss: 21252.8828 - val_mae: 92.7118 - learning_rate: 0.0010\n",
      "Epoch 5/200\n",
      "\u001b[1m1724/1724\u001b[0m \u001b[32m━━━━━━━━━━━━━━━━━━━━\u001b[0m\u001b[37m\u001b[0m \u001b[1m5s\u001b[0m 3ms/step - loss: 31903.7891 - mae: 116.8325 - val_loss: 19546.7930 - val_mae: 89.1735 - learning_rate: 0.0010\n",
      "Epoch 6/200\n",
      "\u001b[1m1724/1724\u001b[0m \u001b[32m━━━━━━━━━━━━━━━━━━━━\u001b[0m\u001b[37m\u001b[0m \u001b[1m5s\u001b[0m 3ms/step - loss: 28027.3242 - mae: 109.7241 - val_loss: 16527.0781 - val_mae: 81.8140 - learning_rate: 0.0010\n",
      "Epoch 7/200\n",
      "\u001b[1m1724/1724\u001b[0m \u001b[32m━━━━━━━━━━━━━━━━━━━━\u001b[0m\u001b[37m\u001b[0m \u001b[1m7s\u001b[0m 4ms/step - loss: 26367.9395 - mae: 105.9376 - val_loss: 18104.3750 - val_mae: 85.4710 - learning_rate: 0.0010\n",
      "Epoch 8/200\n",
      "\u001b[1m1724/1724\u001b[0m \u001b[32m━━━━━━━━━━━━━━━━━━━━\u001b[0m\u001b[37m\u001b[0m \u001b[1m6s\u001b[0m 3ms/step - loss: 23272.4531 - mae: 101.0118 - val_loss: 16533.7969 - val_mae: 79.8614 - learning_rate: 0.0010\n",
      "Epoch 9/200\n",
      "\u001b[1m1724/1724\u001b[0m \u001b[32m━━━━━━━━━━━━━━━━━━━━\u001b[0m\u001b[37m\u001b[0m \u001b[1m6s\u001b[0m 3ms/step - loss: 23411.5859 - mae: 99.7109 - val_loss: 14452.9766 - val_mae: 74.8064 - learning_rate: 0.0010\n",
      "Epoch 10/200\n",
      "\u001b[1m1724/1724\u001b[0m \u001b[32m━━━━━━━━━━━━━━━━━━━━\u001b[0m\u001b[37m\u001b[0m \u001b[1m6s\u001b[0m 3ms/step - loss: 22096.5957 - mae: 96.5835 - val_loss: 14275.4658 - val_mae: 73.1460 - learning_rate: 0.0010\n",
      "Epoch 11/200\n",
      "\u001b[1m1724/1724\u001b[0m \u001b[32m━━━━━━━━━━━━━━━━━━━━\u001b[0m\u001b[37m\u001b[0m \u001b[1m7s\u001b[0m 4ms/step - loss: 21060.0664 - mae: 94.9337 - val_loss: 13014.5146 - val_mae: 70.6072 - learning_rate: 9.0000e-04\n",
      "Epoch 12/200\n",
      "\u001b[1m1724/1724\u001b[0m \u001b[32m━━━━━━━━━━━━━━━━━━━━\u001b[0m\u001b[37m\u001b[0m \u001b[1m6s\u001b[0m 3ms/step - loss: 21065.3496 - mae: 93.7791 - val_loss: 16952.5645 - val_mae: 81.6442 - learning_rate: 9.0000e-04\n",
      "Epoch 13/200\n",
      "\u001b[1m1724/1724\u001b[0m \u001b[32m━━━━━━━━━━━━━━━━━━━━\u001b[0m\u001b[37m\u001b[0m \u001b[1m6s\u001b[0m 3ms/step - loss: 19409.7246 - mae: 90.2828 - val_loss: 16310.7949 - val_mae: 79.5616 - learning_rate: 9.0000e-04\n",
      "Epoch 14/200\n",
      "\u001b[1m1724/1724\u001b[0m \u001b[32m━━━━━━━━━━━━━━━━━━━━\u001b[0m\u001b[37m\u001b[0m \u001b[1m9s\u001b[0m 5ms/step - loss: 20014.3750 - mae: 90.5814 - val_loss: 14292.9023 - val_mae: 72.5417 - learning_rate: 9.0000e-04\n",
      "Epoch 15/200\n",
      "\u001b[1m1724/1724\u001b[0m \u001b[32m━━━━━━━━━━━━━━━━━━━━\u001b[0m\u001b[37m\u001b[0m \u001b[1m6s\u001b[0m 4ms/step - loss: 18490.9434 - mae: 88.0632 - val_loss: 13703.5088 - val_mae: 72.1936 - learning_rate: 9.0000e-04\n",
      "Epoch 16/200\n",
      "\u001b[1m1724/1724\u001b[0m \u001b[32m━━━━━━━━━━━━━━━━━━━━\u001b[0m\u001b[37m\u001b[0m \u001b[1m7s\u001b[0m 4ms/step - loss: 18718.3711 - mae: 88.7243 - val_loss: 14919.3438 - val_mae: 76.0539 - learning_rate: 9.0000e-04\n",
      "Epoch 17/200\n",
      "\u001b[1m1724/1724\u001b[0m \u001b[32m━━━━━━━━━━━━━━━━━━━━\u001b[0m\u001b[37m\u001b[0m \u001b[1m8s\u001b[0m 5ms/step - loss: 18261.7188 - mae: 87.7773 - val_loss: 13655.1855 - val_mae: 72.0902 - learning_rate: 9.0000e-04\n",
      "Epoch 18/200\n",
      "\u001b[1m1724/1724\u001b[0m \u001b[32m━━━━━━━━━━━━━━━━━━━━\u001b[0m\u001b[37m\u001b[0m \u001b[1m9s\u001b[0m 5ms/step - loss: 17993.3984 - mae: 86.6546 - val_loss: 13735.3750 - val_mae: 71.5514 - learning_rate: 9.0000e-04\n",
      "Epoch 19/200\n",
      "\u001b[1m1724/1724\u001b[0m \u001b[32m━━━━━━━━━━━━━━━━━━━━\u001b[0m\u001b[37m\u001b[0m \u001b[1m9s\u001b[0m 5ms/step - loss: 17404.0645 - mae: 85.5559 - val_loss: 12749.1680 - val_mae: 70.4764 - learning_rate: 9.0000e-04\n",
      "Epoch 20/200\n",
      "\u001b[1m1724/1724\u001b[0m \u001b[32m━━━━━━━━━━━━━━━━━━━━\u001b[0m\u001b[37m\u001b[0m \u001b[1m8s\u001b[0m 5ms/step - loss: 17623.0059 - mae: 85.9416 - val_loss: 12741.7900 - val_mae: 69.3340 - learning_rate: 9.0000e-04\n",
      "Epoch 21/200\n",
      "\u001b[1m1724/1724\u001b[0m \u001b[32m━━━━━━━━━━━━━━━━━━━━\u001b[0m\u001b[37m\u001b[0m \u001b[1m6s\u001b[0m 3ms/step - loss: 17299.3594 - mae: 84.7259 - val_loss: 11423.3223 - val_mae: 65.3118 - learning_rate: 8.1000e-04\n",
      "Epoch 22/200\n",
      "\u001b[1m1724/1724\u001b[0m \u001b[32m━━━━━━━━━━━━━━━━━━━━\u001b[0m\u001b[37m\u001b[0m \u001b[1m5s\u001b[0m 3ms/step - loss: 16917.2891 - mae: 83.7622 - val_loss: 11747.7266 - val_mae: 66.0384 - learning_rate: 8.1000e-04\n",
      "Epoch 23/200\n",
      "\u001b[1m1724/1724\u001b[0m \u001b[32m━━━━━━━━━━━━━━━━━━━━\u001b[0m\u001b[37m\u001b[0m \u001b[1m5s\u001b[0m 3ms/step - loss: 16158.0361 - mae: 82.2047 - val_loss: 15152.5635 - val_mae: 77.4764 - learning_rate: 8.1000e-04\n",
      "Epoch 24/200\n",
      "\u001b[1m1724/1724\u001b[0m \u001b[32m━━━━━━━━━━━━━━━━━━━━\u001b[0m\u001b[37m\u001b[0m \u001b[1m5s\u001b[0m 3ms/step - loss: 16650.4707 - mae: 83.4548 - val_loss: 13012.3584 - val_mae: 71.0708 - learning_rate: 8.1000e-04\n",
      "Epoch 25/200\n",
      "\u001b[1m1724/1724\u001b[0m \u001b[32m━━━━━━━━━━━━━━━━━━━━\u001b[0m\u001b[37m\u001b[0m \u001b[1m5s\u001b[0m 3ms/step - loss: 15807.4521 - mae: 80.6169 - val_loss: 15510.4590 - val_mae: 77.2581 - learning_rate: 8.1000e-04\n",
      "Epoch 26/200\n",
      "\u001b[1m1724/1724\u001b[0m \u001b[32m━━━━━━━━━━━━━━━━━━━━\u001b[0m\u001b[37m\u001b[0m \u001b[1m4s\u001b[0m 3ms/step - loss: 15723.6641 - mae: 80.8342 - val_loss: 11910.6621 - val_mae: 66.5921 - learning_rate: 8.1000e-04\n",
      "Epoch 27/200\n",
      "\u001b[1m1724/1724\u001b[0m \u001b[32m━━━━━━━━━━━━━━━━━━━━\u001b[0m\u001b[37m\u001b[0m \u001b[1m4s\u001b[0m 2ms/step - loss: 15809.8594 - mae: 81.6178 - val_loss: 11227.2295 - val_mae: 64.0509 - learning_rate: 8.1000e-04\n",
      "Epoch 28/200\n",
      "\u001b[1m1724/1724\u001b[0m \u001b[32m━━━━━━━━━━━━━━━━━━━━\u001b[0m\u001b[37m\u001b[0m \u001b[1m6s\u001b[0m 4ms/step - loss: 15603.2080 - mae: 80.4581 - val_loss: 11113.1787 - val_mae: 63.7781 - learning_rate: 8.1000e-04\n",
      "Epoch 29/200\n",
      "\u001b[1m1724/1724\u001b[0m \u001b[32m━━━━━━━━━━━━━━━━━━━━\u001b[0m\u001b[37m\u001b[0m \u001b[1m5s\u001b[0m 3ms/step - loss: 16362.6768 - mae: 81.7802 - val_loss: 12064.5938 - val_mae: 67.9430 - learning_rate: 8.1000e-04\n",
      "Epoch 30/200\n",
      "\u001b[1m1724/1724\u001b[0m \u001b[32m━━━━━━━━━━━━━━━━━━━━\u001b[0m\u001b[37m\u001b[0m \u001b[1m5s\u001b[0m 3ms/step - loss: 15713.8496 - mae: 80.3836 - val_loss: 13266.1338 - val_mae: 71.2145 - learning_rate: 8.1000e-04\n",
      "Epoch 31/200\n",
      "\u001b[1m1724/1724\u001b[0m \u001b[32m━━━━━━━━━━━━━━━━━━━━\u001b[0m\u001b[37m\u001b[0m \u001b[1m5s\u001b[0m 3ms/step - loss: 15449.6855 - mae: 79.6046 - val_loss: 11331.3877 - val_mae: 65.0257 - learning_rate: 7.2900e-04\n",
      "Epoch 32/200\n",
      "\u001b[1m1724/1724\u001b[0m \u001b[32m━━━━━━━━━━━━━━━━━━━━\u001b[0m\u001b[37m\u001b[0m \u001b[1m5s\u001b[0m 3ms/step - loss: 15062.9736 - mae: 78.7544 - val_loss: 14733.0039 - val_mae: 74.7809 - learning_rate: 7.2900e-04\n",
      "Epoch 33/200\n",
      "\u001b[1m1724/1724\u001b[0m \u001b[32m━━━━━━━━━━━━━━━━━━━━\u001b[0m\u001b[37m\u001b[0m \u001b[1m5s\u001b[0m 3ms/step - loss: 14323.6279 - mae: 77.2700 - val_loss: 10651.3975 - val_mae: 63.1041 - learning_rate: 7.2900e-04\n",
      "Epoch 34/200\n",
      "\u001b[1m1724/1724\u001b[0m \u001b[32m━━━━━━━━━━━━━━━━━━━━\u001b[0m\u001b[37m\u001b[0m \u001b[1m5s\u001b[0m 3ms/step - loss: 14742.5078 - mae: 78.2004 - val_loss: 12027.3203 - val_mae: 66.5832 - learning_rate: 7.2900e-04\n",
      "Epoch 35/200\n",
      "\u001b[1m1724/1724\u001b[0m \u001b[32m━━━━━━━━━━━━━━━━━━━━\u001b[0m\u001b[37m\u001b[0m \u001b[1m5s\u001b[0m 3ms/step - loss: 14611.1064 - mae: 78.1733 - val_loss: 14625.2256 - val_mae: 75.0979 - learning_rate: 7.2900e-04\n",
      "Epoch 36/200\n",
      "\u001b[1m1724/1724\u001b[0m \u001b[32m━━━━━━━━━━━━━━━━━━━━\u001b[0m\u001b[37m\u001b[0m \u001b[1m10s\u001b[0m 6ms/step - loss: 15144.4590 - mae: 78.5786 - val_loss: 13065.9541 - val_mae: 71.4613 - learning_rate: 7.2900e-04\n",
      "Epoch 37/200\n",
      "\u001b[1m1724/1724\u001b[0m \u001b[32m━━━━━━━━━━━━━━━━━━━━\u001b[0m\u001b[37m\u001b[0m \u001b[1m9s\u001b[0m 5ms/step - loss: 15237.5508 - mae: 78.9587 - val_loss: 10128.2178 - val_mae: 60.3907 - learning_rate: 7.2900e-04\n",
      "Epoch 38/200\n",
      "\u001b[1m1724/1724\u001b[0m \u001b[32m━━━━━━━━━━━━━━━━━━━━\u001b[0m\u001b[37m\u001b[0m \u001b[1m11s\u001b[0m 6ms/step - loss: 14521.1455 - mae: 76.8413 - val_loss: 10347.5732 - val_mae: 62.0213 - learning_rate: 7.2900e-04\n",
      "Epoch 39/200\n",
      "\u001b[1m1724/1724\u001b[0m \u001b[32m━━━━━━━━━━━━━━━━━━━━\u001b[0m\u001b[37m\u001b[0m \u001b[1m7s\u001b[0m 4ms/step - loss: 14212.9082 - mae: 76.5997 - val_loss: 11077.4053 - val_mae: 63.6508 - learning_rate: 7.2900e-04\n",
      "Epoch 40/200\n",
      "\u001b[1m1724/1724\u001b[0m \u001b[32m━━━━━━━━━━━━━━━━━━━━\u001b[0m\u001b[37m\u001b[0m \u001b[1m8s\u001b[0m 5ms/step - loss: 14905.0029 - mae: 77.5557 - val_loss: 12618.3115 - val_mae: 68.7005 - learning_rate: 7.2900e-04\n",
      "Epoch 41/200\n",
      "\u001b[1m1724/1724\u001b[0m \u001b[32m━━━━━━━━━━━━━━━━━━━━\u001b[0m\u001b[37m\u001b[0m \u001b[1m10s\u001b[0m 6ms/step - loss: 14246.3076 - mae: 76.2731 - val_loss: 10511.4434 - val_mae: 62.3362 - learning_rate: 6.5610e-04\n",
      "Epoch 42/200\n",
      "\u001b[1m1724/1724\u001b[0m \u001b[32m━━━━━━━━━━━━━━━━━━━━\u001b[0m\u001b[37m\u001b[0m \u001b[1m10s\u001b[0m 5ms/step - loss: 14052.9697 - mae: 75.6600 - val_loss: 9986.1904 - val_mae: 59.6817 - learning_rate: 6.5610e-04\n",
      "Epoch 43/200\n",
      "\u001b[1m1724/1724\u001b[0m \u001b[32m━━━━━━━━━━━━━━━━━━━━\u001b[0m\u001b[37m\u001b[0m \u001b[1m8s\u001b[0m 5ms/step - loss: 13800.8389 - mae: 75.7024 - val_loss: 10643.1914 - val_mae: 62.2271 - learning_rate: 6.5610e-04\n",
      "Epoch 44/200\n",
      "\u001b[1m1724/1724\u001b[0m \u001b[32m━━━━━━━━━━━━━━━━━━━━\u001b[0m\u001b[37m\u001b[0m \u001b[1m6s\u001b[0m 3ms/step - loss: 14038.7930 - mae: 75.1795 - val_loss: 10311.0127 - val_mae: 60.8036 - learning_rate: 6.5610e-04\n",
      "Epoch 45/200\n",
      "\u001b[1m1724/1724\u001b[0m \u001b[32m━━━━━━━━━━━━━━━━━━━━\u001b[0m\u001b[37m\u001b[0m \u001b[1m7s\u001b[0m 4ms/step - loss: 13660.2900 - mae: 74.7617 - val_loss: 10555.0781 - val_mae: 62.5706 - learning_rate: 6.5610e-04\n",
      "Epoch 46/200\n",
      "\u001b[1m1724/1724\u001b[0m \u001b[32m━━━━━━━━━━━━━━━━━━━━\u001b[0m\u001b[37m\u001b[0m \u001b[1m9s\u001b[0m 5ms/step - loss: 13608.5039 - mae: 75.1168 - val_loss: 11666.7061 - val_mae: 64.2747 - learning_rate: 6.5610e-04\n",
      "Epoch 47/200\n",
      "\u001b[1m1724/1724\u001b[0m \u001b[32m━━━━━━━━━━━━━━━━━━━━\u001b[0m\u001b[37m\u001b[0m \u001b[1m8s\u001b[0m 5ms/step - loss: 13455.2168 - mae: 74.1826 - val_loss: 10009.2412 - val_mae: 60.4800 - learning_rate: 6.5610e-04\n",
      "Epoch 48/200\n",
      "\u001b[1m1724/1724\u001b[0m \u001b[32m━━━━━━━━━━━━━━━━━━━━\u001b[0m\u001b[37m\u001b[0m \u001b[1m11s\u001b[0m 5ms/step - loss: 13521.4873 - mae: 74.1021 - val_loss: 11726.2529 - val_mae: 63.3197 - learning_rate: 6.5610e-04\n",
      "Epoch 49/200\n",
      "\u001b[1m1724/1724\u001b[0m \u001b[32m━━━━━━━━━━━━━━━━━━━━\u001b[0m\u001b[37m\u001b[0m \u001b[1m10s\u001b[0m 6ms/step - loss: 13072.6445 - mae: 73.4706 - val_loss: 10050.7891 - val_mae: 60.4191 - learning_rate: 6.5610e-04\n",
      "Epoch 50/200\n",
      "\u001b[1m1724/1724\u001b[0m \u001b[32m━━━━━━━━━━━━━━━━━━━━\u001b[0m\u001b[37m\u001b[0m \u001b[1m8s\u001b[0m 5ms/step - loss: 13351.2773 - mae: 74.1947 - val_loss: 13119.2881 - val_mae: 71.2473 - learning_rate: 6.5610e-04\n",
      "Epoch 51/200\n",
      "\u001b[1m1724/1724\u001b[0m \u001b[32m━━━━━━━━━━━━━━━━━━━━\u001b[0m\u001b[37m\u001b[0m \u001b[1m8s\u001b[0m 3ms/step - loss: 13558.6807 - mae: 74.4790 - val_loss: 11002.1318 - val_mae: 64.3730 - learning_rate: 5.9049e-04\n",
      "Epoch 52/200\n",
      "\u001b[1m1724/1724\u001b[0m \u001b[32m━━━━━━━━━━━━━━━━━━━━\u001b[0m\u001b[37m\u001b[0m \u001b[1m7s\u001b[0m 4ms/step - loss: 13263.8877 - mae: 73.5591 - val_loss: 12036.4287 - val_mae: 66.9400 - learning_rate: 5.9049e-04\n",
      "Epoch 53/200\n",
      "\u001b[1m1724/1724\u001b[0m \u001b[32m━━━━━━━━━━━━━━━━━━━━\u001b[0m\u001b[37m\u001b[0m \u001b[1m9s\u001b[0m 5ms/step - loss: 13310.8936 - mae: 73.8812 - val_loss: 9813.6260 - val_mae: 59.1711 - learning_rate: 5.9049e-04\n",
      "Epoch 54/200\n",
      "\u001b[1m1724/1724\u001b[0m \u001b[32m━━━━━━━━━━━━━━━━━━━━\u001b[0m\u001b[37m\u001b[0m \u001b[1m8s\u001b[0m 3ms/step - loss: 13182.0537 - mae: 73.1466 - val_loss: 10672.5293 - val_mae: 62.8651 - learning_rate: 5.9049e-04\n",
      "Epoch 55/200\n",
      "\u001b[1m1724/1724\u001b[0m \u001b[32m━━━━━━━━━━━━━━━━━━━━\u001b[0m\u001b[37m\u001b[0m \u001b[1m6s\u001b[0m 3ms/step - loss: 13052.4316 - mae: 72.6505 - val_loss: 10547.3242 - val_mae: 62.3444 - learning_rate: 5.9049e-04\n",
      "Epoch 56/200\n",
      "\u001b[1m1724/1724\u001b[0m \u001b[32m━━━━━━━━━━━━━━━━━━━━\u001b[0m\u001b[37m\u001b[0m \u001b[1m7s\u001b[0m 4ms/step - loss: 13188.0615 - mae: 73.4802 - val_loss: 10260.9600 - val_mae: 60.7452 - learning_rate: 5.9049e-04\n",
      "Epoch 57/200\n",
      "\u001b[1m1724/1724\u001b[0m \u001b[32m━━━━━━━━━━━━━━━━━━━━\u001b[0m\u001b[37m\u001b[0m \u001b[1m7s\u001b[0m 4ms/step - loss: 13103.9697 - mae: 72.9052 - val_loss: 10215.6064 - val_mae: 61.1671 - learning_rate: 5.9049e-04\n",
      "Epoch 58/200\n",
      "\u001b[1m1724/1724\u001b[0m \u001b[32m━━━━━━━━━━━━━━━━━━━━\u001b[0m\u001b[37m\u001b[0m \u001b[1m8s\u001b[0m 5ms/step - loss: 12550.1797 - mae: 71.3499 - val_loss: 9999.9346 - val_mae: 60.0454 - learning_rate: 5.9049e-04\n",
      "Epoch 59/200\n",
      "\u001b[1m1724/1724\u001b[0m \u001b[32m━━━━━━━━━━━━━━━━━━━━\u001b[0m\u001b[37m\u001b[0m \u001b[1m7s\u001b[0m 4ms/step - loss: 13006.1826 - mae: 73.1139 - val_loss: 10956.6348 - val_mae: 63.7096 - learning_rate: 5.9049e-04\n",
      "Epoch 60/200\n",
      "\u001b[1m1724/1724\u001b[0m \u001b[32m━━━━━━━━━━━━━━━━━━━━\u001b[0m\u001b[37m\u001b[0m \u001b[1m9s\u001b[0m 5ms/step - loss: 12610.5029 - mae: 71.8259 - val_loss: 9738.1230 - val_mae: 58.3936 - learning_rate: 5.9049e-04\n",
      "Epoch 61/200\n",
      "\u001b[1m1724/1724\u001b[0m \u001b[32m━━━━━━━━━━━━━━━━━━━━\u001b[0m\u001b[37m\u001b[0m \u001b[1m10s\u001b[0m 6ms/step - loss: 12586.8379 - mae: 71.2463 - val_loss: 9677.0869 - val_mae: 58.4733 - learning_rate: 5.3144e-04\n",
      "Epoch 62/200\n",
      "\u001b[1m1724/1724\u001b[0m \u001b[32m━━━━━━━━━━━━━━━━━━━━\u001b[0m\u001b[37m\u001b[0m \u001b[1m6s\u001b[0m 4ms/step - loss: 12808.9639 - mae: 71.8632 - val_loss: 10487.4941 - val_mae: 61.9619 - learning_rate: 5.3144e-04\n",
      "Epoch 63/200\n",
      "\u001b[1m1724/1724\u001b[0m \u001b[32m━━━━━━━━━━━━━━━━━━━━\u001b[0m\u001b[37m\u001b[0m \u001b[1m6s\u001b[0m 4ms/step - loss: 12631.9697 - mae: 70.8883 - val_loss: 10251.2305 - val_mae: 61.0883 - learning_rate: 5.3144e-04\n",
      "Epoch 64/200\n",
      "\u001b[1m1724/1724\u001b[0m \u001b[32m━━━━━━━━━━━━━━━━━━━━\u001b[0m\u001b[37m\u001b[0m \u001b[1m8s\u001b[0m 5ms/step - loss: 12930.1641 - mae: 72.3686 - val_loss: 9761.6172 - val_mae: 59.1118 - learning_rate: 5.3144e-04\n",
      "Epoch 65/200\n",
      "\u001b[1m1724/1724\u001b[0m \u001b[32m━━━━━━━━━━━━━━━━━━━━\u001b[0m\u001b[37m\u001b[0m \u001b[1m8s\u001b[0m 5ms/step - loss: 12319.6904 - mae: 70.8187 - val_loss: 9940.1143 - val_mae: 59.6408 - learning_rate: 5.3144e-04\n",
      "Epoch 66/200\n",
      "\u001b[1m1724/1724\u001b[0m \u001b[32m━━━━━━━━━━━━━━━━━━━━\u001b[0m\u001b[37m\u001b[0m \u001b[1m8s\u001b[0m 5ms/step - loss: 12576.5010 - mae: 71.0402 - val_loss: 9971.9424 - val_mae: 60.2390 - learning_rate: 5.3144e-04\n",
      "Epoch 67/200\n",
      "\u001b[1m1724/1724\u001b[0m \u001b[32m━━━━━━━━━━━━━━━━━━━━\u001b[0m\u001b[37m\u001b[0m \u001b[1m7s\u001b[0m 4ms/step - loss: 12328.5361 - mae: 70.3719 - val_loss: 9749.1396 - val_mae: 59.0998 - learning_rate: 5.3144e-04\n",
      "Epoch 68/200\n",
      "\u001b[1m1724/1724\u001b[0m \u001b[32m━━━━━━━━━━━━━━━━━━━━\u001b[0m\u001b[37m\u001b[0m \u001b[1m7s\u001b[0m 4ms/step - loss: 12474.8877 - mae: 70.8894 - val_loss: 9579.4619 - val_mae: 59.0777 - learning_rate: 5.3144e-04\n",
      "Epoch 69/200\n",
      "\u001b[1m1724/1724\u001b[0m \u001b[32m━━━━━━━━━━━━━━━━━━━━\u001b[0m\u001b[37m\u001b[0m \u001b[1m8s\u001b[0m 4ms/step - loss: 12311.3828 - mae: 70.2524 - val_loss: 9977.2090 - val_mae: 59.9023 - learning_rate: 5.3144e-04\n",
      "Epoch 70/200\n",
      "\u001b[1m1724/1724\u001b[0m \u001b[32m━━━━━━━━━━━━━━━━━━━━\u001b[0m\u001b[37m\u001b[0m \u001b[1m8s\u001b[0m 5ms/step - loss: 12503.3223 - mae: 70.8240 - val_loss: 9532.6621 - val_mae: 58.5718 - learning_rate: 5.3144e-04\n",
      "Epoch 71/200\n",
      "\u001b[1m1724/1724\u001b[0m \u001b[32m━━━━━━━━━━━━━━━━━━━━\u001b[0m\u001b[37m\u001b[0m \u001b[1m8s\u001b[0m 5ms/step - loss: 12146.4258 - mae: 69.9981 - val_loss: 11333.1279 - val_mae: 65.3739 - learning_rate: 4.7830e-04\n",
      "Epoch 72/200\n",
      "\u001b[1m1724/1724\u001b[0m \u001b[32m━━━━━━━━━━━━━━━━━━━━\u001b[0m\u001b[37m\u001b[0m \u001b[1m8s\u001b[0m 5ms/step - loss: 12183.0645 - mae: 69.9996 - val_loss: 9773.5811 - val_mae: 59.2982 - learning_rate: 4.7830e-04\n",
      "Epoch 73/200\n",
      "\u001b[1m1724/1724\u001b[0m \u001b[32m━━━━━━━━━━━━━━━━━━━━\u001b[0m\u001b[37m\u001b[0m \u001b[1m7s\u001b[0m 4ms/step - loss: 11871.0166 - mae: 69.3702 - val_loss: 9552.5078 - val_mae: 58.2703 - learning_rate: 4.7830e-04\n",
      "Epoch 74/200\n",
      "\u001b[1m1724/1724\u001b[0m \u001b[32m━━━━━━━━━━━━━━━━━━━━\u001b[0m\u001b[37m\u001b[0m \u001b[1m9s\u001b[0m 5ms/step - loss: 12123.9043 - mae: 70.2987 - val_loss: 9729.7744 - val_mae: 58.7772 - learning_rate: 4.7830e-04\n",
      "Epoch 75/200\n",
      "\u001b[1m1724/1724\u001b[0m \u001b[32m━━━━━━━━━━━━━━━━━━━━\u001b[0m\u001b[37m\u001b[0m \u001b[1m9s\u001b[0m 5ms/step - loss: 11901.9492 - mae: 69.3793 - val_loss: 9498.9883 - val_mae: 58.4766 - learning_rate: 4.7830e-04\n",
      "Epoch 76/200\n",
      "\u001b[1m1724/1724\u001b[0m \u001b[32m━━━━━━━━━━━━━━━━━━━━\u001b[0m\u001b[37m\u001b[0m \u001b[1m9s\u001b[0m 5ms/step - loss: 12110.6357 - mae: 69.6533 - val_loss: 12280.0078 - val_mae: 66.7111 - learning_rate: 4.7830e-04\n",
      "Epoch 77/200\n",
      "\u001b[1m1724/1724\u001b[0m \u001b[32m━━━━━━━━━━━━━━━━━━━━\u001b[0m\u001b[37m\u001b[0m \u001b[1m7s\u001b[0m 4ms/step - loss: 11840.3057 - mae: 69.3697 - val_loss: 12792.7041 - val_mae: 69.4396 - learning_rate: 4.7830e-04\n",
      "Epoch 78/200\n",
      "\u001b[1m1724/1724\u001b[0m \u001b[32m━━━━━━━━━━━━━━━━━━━━\u001b[0m\u001b[37m\u001b[0m \u001b[1m7s\u001b[0m 4ms/step - loss: 11823.6455 - mae: 69.0824 - val_loss: 23678.3477 - val_mae: 59.4095 - learning_rate: 4.7830e-04\n",
      "Epoch 79/200\n",
      "\u001b[1m1724/1724\u001b[0m \u001b[32m━━━━━━━━━━━━━━━━━━━━\u001b[0m\u001b[37m\u001b[0m \u001b[1m7s\u001b[0m 4ms/step - loss: 11680.8604 - mae: 68.4627 - val_loss: 23071.5273 - val_mae: 60.5936 - learning_rate: 4.7830e-04\n",
      "Epoch 80/200\n",
      "\u001b[1m1724/1724\u001b[0m \u001b[32m━━━━━━━━━━━━━━━━━━━━\u001b[0m\u001b[37m\u001b[0m \u001b[1m8s\u001b[0m 5ms/step - loss: 11606.6602 - mae: 68.4168 - val_loss: 16041.1533 - val_mae: 58.6979 - learning_rate: 4.7830e-04\n",
      "Epoch 81/200\n",
      "\u001b[1m1724/1724\u001b[0m \u001b[32m━━━━━━━━━━━━━━━━━━━━\u001b[0m\u001b[37m\u001b[0m \u001b[1m9s\u001b[0m 5ms/step - loss: 12056.4121 - mae: 69.4188 - val_loss: 10152.1777 - val_mae: 58.4512 - learning_rate: 4.3047e-04\n",
      "Epoch 82/200\n",
      "\u001b[1m1724/1724\u001b[0m \u001b[32m━━━━━━━━━━━━━━━━━━━━\u001b[0m\u001b[37m\u001b[0m \u001b[1m9s\u001b[0m 5ms/step - loss: 11705.9443 - mae: 68.3771 - val_loss: 14431.8945 - val_mae: 58.1595 - learning_rate: 4.3047e-04\n",
      "Epoch 83/200\n",
      "\u001b[1m1724/1724\u001b[0m \u001b[32m━━━━━━━━━━━━━━━━━━━━\u001b[0m\u001b[37m\u001b[0m \u001b[1m6s\u001b[0m 4ms/step - loss: 12081.6455 - mae: 69.0538 - val_loss: 9559.8994 - val_mae: 57.6403 - learning_rate: 4.3047e-04\n",
      "Epoch 84/200\n",
      "\u001b[1m1724/1724\u001b[0m \u001b[32m━━━━━━━━━━━━━━━━━━━━\u001b[0m\u001b[37m\u001b[0m \u001b[1m7s\u001b[0m 4ms/step - loss: 11449.3516 - mae: 68.1777 - val_loss: 9706.4043 - val_mae: 58.6751 - learning_rate: 4.3047e-04\n",
      "Epoch 85/200\n",
      "\u001b[1m1724/1724\u001b[0m \u001b[32m━━━━━━━━━━━━━━━━━━━━\u001b[0m\u001b[37m\u001b[0m \u001b[1m6s\u001b[0m 3ms/step - loss: 11743.7139 - mae: 68.7150 - val_loss: 11011.9961 - val_mae: 63.4607 - learning_rate: 4.3047e-04\n",
      "Epoch 86/200\n",
      "\u001b[1m1724/1724\u001b[0m \u001b[32m━━━━━━━━━━━━━━━━━━━━\u001b[0m\u001b[37m\u001b[0m \u001b[1m6s\u001b[0m 4ms/step - loss: 11611.4443 - mae: 68.4515 - val_loss: 10505.4248 - val_mae: 58.5905 - learning_rate: 4.3047e-04\n",
      "Epoch 87/200\n",
      "\u001b[1m1724/1724\u001b[0m \u001b[32m━━━━━━━━━━━━━━━━━━━━\u001b[0m\u001b[37m\u001b[0m \u001b[1m7s\u001b[0m 4ms/step - loss: 11826.3164 - mae: 68.8656 - val_loss: 10031.3037 - val_mae: 60.2614 - learning_rate: 4.3047e-04\n",
      "Epoch 88/200\n",
      "\u001b[1m1724/1724\u001b[0m \u001b[32m━━━━━━━━━━━━━━━━━━━━\u001b[0m\u001b[37m\u001b[0m \u001b[1m7s\u001b[0m 4ms/step - loss: 11516.7158 - mae: 68.0762 - val_loss: 9388.8340 - val_mae: 58.0427 - learning_rate: 4.3047e-04\n",
      "Epoch 89/200\n",
      "\u001b[1m1724/1724\u001b[0m \u001b[32m━━━━━━━━━━━━━━━━━━━━\u001b[0m\u001b[37m\u001b[0m \u001b[1m8s\u001b[0m 5ms/step - loss: 11744.8105 - mae: 68.5364 - val_loss: 10361.0039 - val_mae: 61.5742 - learning_rate: 4.3047e-04\n",
      "Epoch 90/200\n",
      "\u001b[1m1724/1724\u001b[0m \u001b[32m━━━━━━━━━━━━━━━━━━━━\u001b[0m\u001b[37m\u001b[0m \u001b[1m8s\u001b[0m 5ms/step - loss: 11605.3652 - mae: 67.9510 - val_loss: 10837.7031 - val_mae: 62.9055 - learning_rate: 4.3047e-04\n",
      "Epoch 91/200\n",
      "\u001b[1m1724/1724\u001b[0m \u001b[32m━━━━━━━━━━━━━━━━━━━━\u001b[0m\u001b[37m\u001b[0m \u001b[1m6s\u001b[0m 3ms/step - loss: 11571.9473 - mae: 68.1119 - val_loss: 9966.5791 - val_mae: 59.5587 - learning_rate: 3.8742e-04\n",
      "Epoch 92/200\n",
      "\u001b[1m1724/1724\u001b[0m \u001b[32m━━━━━━━━━━━━━━━━━━━━\u001b[0m\u001b[37m\u001b[0m \u001b[1m7s\u001b[0m 4ms/step - loss: 11862.6221 - mae: 68.2672 - val_loss: 9785.7129 - val_mae: 57.5937 - learning_rate: 3.8742e-04\n",
      "Epoch 93/200\n",
      "\u001b[1m1724/1724\u001b[0m \u001b[32m━━━━━━━━━━━━━━━━━━━━\u001b[0m\u001b[37m\u001b[0m \u001b[1m12s\u001b[0m 5ms/step - loss: 12091.5000 - mae: 69.3863 - val_loss: 10354.5273 - val_mae: 60.1772 - learning_rate: 3.8742e-04\n",
      "Epoch 94/200\n",
      "\u001b[1m1724/1724\u001b[0m \u001b[32m━━━━━━━━━━━━━━━━━━━━\u001b[0m\u001b[37m\u001b[0m \u001b[1m8s\u001b[0m 5ms/step - loss: 11564.1904 - mae: 68.0420 - val_loss: 9128.7783 - val_mae: 56.0023 - learning_rate: 3.8742e-04\n",
      "Epoch 95/200\n",
      "\u001b[1m1724/1724\u001b[0m \u001b[32m━━━━━━━━━━━━━━━━━━━━\u001b[0m\u001b[37m\u001b[0m \u001b[1m8s\u001b[0m 5ms/step - loss: 11549.2109 - mae: 67.9237 - val_loss: 10634.8828 - val_mae: 59.2140 - learning_rate: 3.8742e-04\n",
      "Epoch 96/200\n",
      "\u001b[1m1724/1724\u001b[0m \u001b[32m━━━━━━━━━━━━━━━━━━━━\u001b[0m\u001b[37m\u001b[0m \u001b[1m8s\u001b[0m 5ms/step - loss: 11680.9326 - mae: 67.7590 - val_loss: 9176.2822 - val_mae: 56.3635 - learning_rate: 3.8742e-04\n",
      "Epoch 97/200\n",
      "\u001b[1m1724/1724\u001b[0m \u001b[32m━━━━━━━━━━━━━━━━━━━━\u001b[0m\u001b[37m\u001b[0m \u001b[1m9s\u001b[0m 5ms/step - loss: 11252.8633 - mae: 67.3728 - val_loss: 1655462.0000 - val_mae: 85.6077 - learning_rate: 3.8742e-04\n",
      "Epoch 98/200\n",
      "\u001b[1m1724/1724\u001b[0m \u001b[32m━━━━━━━━━━━━━━━━━━━━\u001b[0m\u001b[37m\u001b[0m \u001b[1m8s\u001b[0m 5ms/step - loss: 11511.5762 - mae: 67.8343 - val_loss: 84021288.0000 - val_mae: 267.1682 - learning_rate: 3.8742e-04\n",
      "Epoch 99/200\n",
      "\u001b[1m1724/1724\u001b[0m \u001b[32m━━━━━━━━━━━━━━━━━━━━\u001b[0m\u001b[37m\u001b[0m \u001b[1m9s\u001b[0m 5ms/step - loss: 11653.2686 - mae: 68.0277 - val_loss: 1005308.1875 - val_mae: 75.5260 - learning_rate: 3.8742e-04\n",
      "Epoch 100/200\n",
      "\u001b[1m1724/1724\u001b[0m \u001b[32m━━━━━━━━━━━━━━━━━━━━\u001b[0m\u001b[37m\u001b[0m \u001b[1m7s\u001b[0m 4ms/step - loss: 11508.4658 - mae: 67.9108 - val_loss: 12742.0332 - val_mae: 56.6904 - learning_rate: 3.8742e-04\n",
      "Epoch 101/200\n",
      "\u001b[1m1724/1724\u001b[0m \u001b[32m━━━━━━━━━━━━━━━━━━━━\u001b[0m\u001b[37m\u001b[0m \u001b[1m7s\u001b[0m 4ms/step - loss: 11444.6396 - mae: 67.5990 - val_loss: 12770.5527 - val_mae: 57.5000 - learning_rate: 3.4868e-04\n",
      "Epoch 102/200\n",
      "\u001b[1m1724/1724\u001b[0m \u001b[32m━━━━━━━━━━━━━━━━━━━━\u001b[0m\u001b[37m\u001b[0m \u001b[1m9s\u001b[0m 5ms/step - loss: 11442.2715 - mae: 67.5777 - val_loss: 16817.5391 - val_mae: 57.3890 - learning_rate: 3.4868e-04\n",
      "Epoch 103/200\n",
      "\u001b[1m1724/1724\u001b[0m \u001b[32m━━━━━━━━━━━━━━━━━━━━\u001b[0m\u001b[37m\u001b[0m \u001b[1m7s\u001b[0m 4ms/step - loss: 11424.6670 - mae: 67.4727 - val_loss: 10157.2627 - val_mae: 57.2535 - learning_rate: 3.4868e-04\n",
      "Epoch 104/200\n",
      "\u001b[1m1724/1724\u001b[0m \u001b[32m━━━━━━━━━━━━━━━━━━━━\u001b[0m\u001b[37m\u001b[0m \u001b[1m8s\u001b[0m 5ms/step - loss: 11376.2764 - mae: 67.4382 - val_loss: 26892.6934 - val_mae: 61.8984 - learning_rate: 3.4868e-04\n",
      "Epoch 105/200\n",
      "\u001b[1m1724/1724\u001b[0m \u001b[32m━━━━━━━━━━━━━━━━━━━━\u001b[0m\u001b[37m\u001b[0m \u001b[1m8s\u001b[0m 5ms/step - loss: 11046.0576 - mae: 66.9454 - val_loss: 23415.2500 - val_mae: 63.2858 - learning_rate: 3.4868e-04\n",
      "Epoch 106/200\n",
      "\u001b[1m1724/1724\u001b[0m \u001b[32m━━━━━━━━━━━━━━━━━━━━\u001b[0m\u001b[37m\u001b[0m \u001b[1m8s\u001b[0m 5ms/step - loss: 11201.1309 - mae: 67.2026 - val_loss: 11630.4434 - val_mae: 58.9088 - learning_rate: 3.4868e-04\n",
      "Epoch 107/200\n",
      "\u001b[1m1724/1724\u001b[0m \u001b[32m━━━━━━━━━━━━━━━━━━━━\u001b[0m\u001b[37m\u001b[0m \u001b[1m7s\u001b[0m 4ms/step - loss: 11310.3545 - mae: 67.3752 - val_loss: 9090.8418 - val_mae: 55.8527 - learning_rate: 3.4868e-04\n",
      "Epoch 108/200\n",
      "\u001b[1m1724/1724\u001b[0m \u001b[32m━━━━━━━━━━━━━━━━━━━━\u001b[0m\u001b[37m\u001b[0m \u001b[1m8s\u001b[0m 4ms/step - loss: 11245.5225 - mae: 67.1200 - val_loss: 9951.5244 - val_mae: 58.6097 - learning_rate: 3.4868e-04\n",
      "Epoch 109/200\n",
      "\u001b[1m1724/1724\u001b[0m \u001b[32m━━━━━━━━━━━━━━━━━━━━\u001b[0m\u001b[37m\u001b[0m \u001b[1m7s\u001b[0m 4ms/step - loss: 11231.3291 - mae: 67.0925 - val_loss: 9418.4551 - val_mae: 57.1568 - learning_rate: 3.4868e-04\n",
      "Epoch 110/200\n",
      "\u001b[1m1724/1724\u001b[0m \u001b[32m━━━━━━━━━━━━━━━━━━━━\u001b[0m\u001b[37m\u001b[0m \u001b[1m9s\u001b[0m 5ms/step - loss: 11436.0928 - mae: 67.1427 - val_loss: 9203.6230 - val_mae: 56.5693 - learning_rate: 3.4868e-04\n",
      "Epoch 111/200\n",
      "\u001b[1m1724/1724\u001b[0m \u001b[32m━━━━━━━━━━━━━━━━━━━━\u001b[0m\u001b[37m\u001b[0m \u001b[1m8s\u001b[0m 5ms/step - loss: 11042.5508 - mae: 66.7700 - val_loss: 9871.3838 - val_mae: 58.1053 - learning_rate: 3.1381e-04\n",
      "Epoch 112/200\n",
      "\u001b[1m1724/1724\u001b[0m \u001b[32m━━━━━━━━━━━━━━━━━━━━\u001b[0m\u001b[37m\u001b[0m \u001b[1m8s\u001b[0m 5ms/step - loss: 10755.2910 - mae: 65.9314 - val_loss: 11841.5801 - val_mae: 57.8476 - learning_rate: 3.1381e-04\n",
      "Epoch 113/200\n",
      "\u001b[1m1724/1724\u001b[0m \u001b[32m━━━━━━━━━━━━━━━━━━━━\u001b[0m\u001b[37m\u001b[0m \u001b[1m7s\u001b[0m 4ms/step - loss: 10811.7207 - mae: 65.8228 - val_loss: 60368.3516 - val_mae: 59.3119 - learning_rate: 3.1381e-04\n",
      "Epoch 114/200\n",
      "\u001b[1m1724/1724\u001b[0m \u001b[32m━━━━━━━━━━━━━━━━━━━━\u001b[0m\u001b[37m\u001b[0m \u001b[1m8s\u001b[0m 4ms/step - loss: 11113.4688 - mae: 66.9090 - val_loss: 541716160.0000 - val_mae: 449.4375 - learning_rate: 3.1381e-04\n",
      "Epoch 115/200\n",
      "\u001b[1m1724/1724\u001b[0m \u001b[32m━━━━━━━━━━━━━━━━━━━━\u001b[0m\u001b[37m\u001b[0m \u001b[1m7s\u001b[0m 4ms/step - loss: 11123.5547 - mae: 66.7054 - val_loss: 62186.3086 - val_mae: 61.9134 - learning_rate: 3.1381e-04\n",
      "Epoch 116/200\n",
      "\u001b[1m1724/1724\u001b[0m \u001b[32m━━━━━━━━━━━━━━━━━━━━\u001b[0m\u001b[37m\u001b[0m \u001b[1m9s\u001b[0m 5ms/step - loss: 11288.8350 - mae: 67.3423 - val_loss: 14367.4707 - val_mae: 57.1417 - learning_rate: 3.1381e-04\n",
      "Epoch 117/200\n",
      "\u001b[1m1724/1724\u001b[0m \u001b[32m━━━━━━━━━━━━━━━━━━━━\u001b[0m\u001b[37m\u001b[0m \u001b[1m8s\u001b[0m 4ms/step - loss: 10842.0264 - mae: 66.2687 - val_loss: 9105.1201 - val_mae: 55.8533 - learning_rate: 3.1381e-04\n",
      "Epoch 118/200\n",
      "\u001b[1m1724/1724\u001b[0m \u001b[32m━━━━━━━━━━━━━━━━━━━━\u001b[0m\u001b[37m\u001b[0m \u001b[1m10s\u001b[0m 4ms/step - loss: 11089.6436 - mae: 66.5248 - val_loss: 9370.7578 - val_mae: 56.2563 - learning_rate: 3.1381e-04\n",
      "Epoch 119/200\n",
      "\u001b[1m1724/1724\u001b[0m \u001b[32m━━━━━━━━━━━━━━━━━━━━\u001b[0m\u001b[37m\u001b[0m \u001b[1m8s\u001b[0m 5ms/step - loss: 10796.6016 - mae: 66.1038 - val_loss: 9375.7168 - val_mae: 57.5224 - learning_rate: 3.1381e-04\n",
      "Epoch 120/200\n",
      "\u001b[1m1724/1724\u001b[0m \u001b[32m━━━━━━━━━━━━━━━━━━━━\u001b[0m\u001b[37m\u001b[0m \u001b[1m8s\u001b[0m 5ms/step - loss: 10805.1406 - mae: 66.3162 - val_loss: 10440.1035 - val_mae: 61.2355 - learning_rate: 3.1381e-04\n",
      "Epoch 121/200\n",
      "\u001b[1m1724/1724\u001b[0m \u001b[32m━━━━━━━━━━━━━━━━━━━━\u001b[0m\u001b[37m\u001b[0m \u001b[1m7s\u001b[0m 4ms/step - loss: 11315.5049 - mae: 66.7767 - val_loss: 9019.9404 - val_mae: 55.7294 - learning_rate: 2.8243e-04\n",
      "Epoch 122/200\n",
      "\u001b[1m1724/1724\u001b[0m \u001b[32m━━━━━━━━━━━━━━━━━━━━\u001b[0m\u001b[37m\u001b[0m \u001b[1m8s\u001b[0m 5ms/step - loss: 11239.0020 - mae: 66.8271 - val_loss: 9172.2363 - val_mae: 55.5446 - learning_rate: 2.8243e-04\n",
      "Epoch 123/200\n",
      "\u001b[1m1724/1724\u001b[0m \u001b[32m━━━━━━━━━━━━━━━━━━━━\u001b[0m\u001b[37m\u001b[0m \u001b[1m8s\u001b[0m 5ms/step - loss: 10890.6113 - mae: 65.8382 - val_loss: 9516.6064 - val_mae: 57.7094 - learning_rate: 2.8243e-04\n",
      "Epoch 124/200\n",
      "\u001b[1m1724/1724\u001b[0m \u001b[32m━━━━━━━━━━━━━━━━━━━━\u001b[0m\u001b[37m\u001b[0m \u001b[1m8s\u001b[0m 5ms/step - loss: 11333.0498 - mae: 66.8658 - val_loss: 9161.8994 - val_mae: 56.7546 - learning_rate: 2.8243e-04\n",
      "Epoch 125/200\n",
      "\u001b[1m1724/1724\u001b[0m \u001b[32m━━━━━━━━━━━━━━━━━━━━\u001b[0m\u001b[37m\u001b[0m \u001b[1m7s\u001b[0m 4ms/step - loss: 10966.1562 - mae: 65.9525 - val_loss: 9891.4893 - val_mae: 59.2437 - learning_rate: 2.8243e-04\n",
      "Epoch 126/200\n",
      "\u001b[1m1724/1724\u001b[0m \u001b[32m━━━━━━━━━━━━━━━━━━━━\u001b[0m\u001b[37m\u001b[0m \u001b[1m7s\u001b[0m 4ms/step - loss: 10864.7910 - mae: 65.5467 - val_loss: 8876.1377 - val_mae: 54.9249 - learning_rate: 2.8243e-04\n",
      "Epoch 127/200\n",
      "\u001b[1m1724/1724\u001b[0m \u001b[32m━━━━━━━━━━━━━━━━━━━━\u001b[0m\u001b[37m\u001b[0m \u001b[1m5s\u001b[0m 3ms/step - loss: 10826.9248 - mae: 65.9998 - val_loss: 9536.0576 - val_mae: 58.0161 - learning_rate: 2.8243e-04\n",
      "Epoch 128/200\n",
      "\u001b[1m1724/1724\u001b[0m \u001b[32m━━━━━━━━━━━━━━━━━━━━\u001b[0m\u001b[37m\u001b[0m \u001b[1m7s\u001b[0m 4ms/step - loss: 10612.8232 - mae: 65.1820 - val_loss: 9002.2939 - val_mae: 55.7749 - learning_rate: 2.8243e-04\n",
      "Epoch 129/200\n",
      "\u001b[1m1724/1724\u001b[0m \u001b[32m━━━━━━━━━━━━━━━━━━━━\u001b[0m\u001b[37m\u001b[0m \u001b[1m8s\u001b[0m 5ms/step - loss: 10863.9287 - mae: 65.9671 - val_loss: 9361.7227 - val_mae: 56.0894 - learning_rate: 2.8243e-04\n",
      "Epoch 130/200\n",
      "\u001b[1m1724/1724\u001b[0m \u001b[32m━━━━━━━━━━━━━━━━━━━━\u001b[0m\u001b[37m\u001b[0m \u001b[1m8s\u001b[0m 4ms/step - loss: 10918.0869 - mae: 66.0487 - val_loss: 9708.0762 - val_mae: 58.5900 - learning_rate: 2.8243e-04\n",
      "Epoch 131/200\n",
      "\u001b[1m1724/1724\u001b[0m \u001b[32m━━━━━━━━━━━━━━━━━━━━\u001b[0m\u001b[37m\u001b[0m \u001b[1m8s\u001b[0m 4ms/step - loss: 10800.6914 - mae: 65.7561 - val_loss: 9221.9727 - val_mae: 55.9776 - learning_rate: 2.5419e-04\n",
      "Epoch 132/200\n",
      "\u001b[1m1724/1724\u001b[0m \u001b[32m━━━━━━━━━━━━━━━━━━━━\u001b[0m\u001b[37m\u001b[0m \u001b[1m7s\u001b[0m 4ms/step - loss: 10803.6670 - mae: 65.2090 - val_loss: 9075.0322 - val_mae: 55.8297 - learning_rate: 2.5419e-04\n",
      "Epoch 133/200\n",
      "\u001b[1m1724/1724\u001b[0m \u001b[32m━━━━━━━━━━━━━━━━━━━━\u001b[0m\u001b[37m\u001b[0m \u001b[1m7s\u001b[0m 4ms/step - loss: 10835.2480 - mae: 65.8848 - val_loss: 9542.5703 - val_mae: 58.1890 - learning_rate: 2.5419e-04\n",
      "Epoch 134/200\n",
      "\u001b[1m1724/1724\u001b[0m \u001b[32m━━━━━━━━━━━━━━━━━━━━\u001b[0m\u001b[37m\u001b[0m \u001b[1m8s\u001b[0m 4ms/step - loss: 10711.8584 - mae: 65.6869 - val_loss: 8986.7979 - val_mae: 55.8683 - learning_rate: 2.5419e-04\n",
      "Epoch 135/200\n",
      "\u001b[1m1724/1724\u001b[0m \u001b[32m━━━━━━━━━━━━━━━━━━━━\u001b[0m\u001b[37m\u001b[0m \u001b[1m7s\u001b[0m 4ms/step - loss: 10907.1865 - mae: 65.5757 - val_loss: 8823.3125 - val_mae: 54.9937 - learning_rate: 2.5419e-04\n",
      "Epoch 136/200\n",
      "\u001b[1m1724/1724\u001b[0m \u001b[32m━━━━━━━━━━━━━━━━━━━━\u001b[0m\u001b[37m\u001b[0m \u001b[1m10s\u001b[0m 4ms/step - loss: 10805.5107 - mae: 65.5136 - val_loss: 8861.8438 - val_mae: 55.1977 - learning_rate: 2.5419e-04\n",
      "Epoch 137/200\n",
      "\u001b[1m1724/1724\u001b[0m \u001b[32m━━━━━━━━━━━━━━━━━━━━\u001b[0m\u001b[37m\u001b[0m \u001b[1m7s\u001b[0m 4ms/step - loss: 10864.3662 - mae: 65.4500 - val_loss: 9375.0508 - val_mae: 57.1397 - learning_rate: 2.5419e-04\n",
      "Epoch 138/200\n",
      "\u001b[1m1724/1724\u001b[0m \u001b[32m━━━━━━━━━━━━━━━━━━━━\u001b[0m\u001b[37m\u001b[0m \u001b[1m8s\u001b[0m 4ms/step - loss: 10894.4180 - mae: 65.7918 - val_loss: 9318.3252 - val_mae: 57.3285 - learning_rate: 2.5419e-04\n",
      "Epoch 139/200\n",
      "\u001b[1m1724/1724\u001b[0m \u001b[32m━━━━━━━━━━━━━━━━━━━━\u001b[0m\u001b[37m\u001b[0m \u001b[1m7s\u001b[0m 4ms/step - loss: 11220.2256 - mae: 66.6000 - val_loss: 8870.3291 - val_mae: 54.9184 - learning_rate: 2.5419e-04\n",
      "Epoch 140/200\n",
      "\u001b[1m1724/1724\u001b[0m \u001b[32m━━━━━━━━━━━━━━━━━━━━\u001b[0m\u001b[37m\u001b[0m \u001b[1m6s\u001b[0m 3ms/step - loss: 10611.7158 - mae: 65.4289 - val_loss: 9119.2832 - val_mae: 55.9751 - learning_rate: 2.5419e-04\n",
      "Epoch 141/200\n",
      "\u001b[1m1724/1724\u001b[0m \u001b[32m━━━━━━━━━━━━━━━━━━━━\u001b[0m\u001b[37m\u001b[0m \u001b[1m12s\u001b[0m 5ms/step - loss: 10882.8799 - mae: 65.7682 - val_loss: 9262.8701 - val_mae: 56.7632 - learning_rate: 2.2877e-04\n",
      "Epoch 142/200\n",
      "\u001b[1m1724/1724\u001b[0m \u001b[32m━━━━━━━━━━━━━━━━━━━━\u001b[0m\u001b[37m\u001b[0m \u001b[1m6s\u001b[0m 4ms/step - loss: 10734.5898 - mae: 65.3860 - val_loss: 9985.9014 - val_mae: 59.5156 - learning_rate: 2.2877e-04\n",
      "Epoch 143/200\n",
      "\u001b[1m1724/1724\u001b[0m \u001b[32m━━━━━━━━━━━━━━━━━━━━\u001b[0m\u001b[37m\u001b[0m \u001b[1m8s\u001b[0m 5ms/step - loss: 10596.3984 - mae: 65.0037 - val_loss: 8943.9707 - val_mae: 55.5250 - learning_rate: 2.2877e-04\n",
      "Epoch 144/200\n",
      "\u001b[1m1724/1724\u001b[0m \u001b[32m━━━━━━━━━━━━━━━━━━━━\u001b[0m\u001b[37m\u001b[0m \u001b[1m9s\u001b[0m 4ms/step - loss: 10625.7627 - mae: 65.1208 - val_loss: 8878.7656 - val_mae: 55.1732 - learning_rate: 2.2877e-04\n",
      "Epoch 145/200\n",
      "\u001b[1m1724/1724\u001b[0m \u001b[32m━━━━━━━━━━━━━━━━━━━━\u001b[0m\u001b[37m\u001b[0m \u001b[1m8s\u001b[0m 5ms/step - loss: 10918.1123 - mae: 65.7536 - val_loss: 8899.9150 - val_mae: 55.4060 - learning_rate: 2.2877e-04\n",
      "Epoch 146/200\n",
      "\u001b[1m1724/1724\u001b[0m \u001b[32m━━━━━━━━━━━━━━━━━━━━\u001b[0m\u001b[37m\u001b[0m \u001b[1m7s\u001b[0m 4ms/step - loss: 10582.6660 - mae: 65.4390 - val_loss: 9424.7139 - val_mae: 55.3293 - learning_rate: 2.2877e-04\n",
      "Epoch 147/200\n",
      "\u001b[1m1724/1724\u001b[0m \u001b[32m━━━━━━━━━━━━━━━━━━━━\u001b[0m\u001b[37m\u001b[0m \u001b[1m7s\u001b[0m 4ms/step - loss: 10311.0234 - mae: 64.4076 - val_loss: 12103.1973 - val_mae: 56.0093 - learning_rate: 2.2877e-04\n",
      "Epoch 148/200\n",
      "\u001b[1m1724/1724\u001b[0m \u001b[32m━━━━━━━━━━━━━━━━━━━━\u001b[0m\u001b[37m\u001b[0m \u001b[1m7s\u001b[0m 4ms/step - loss: 10478.4502 - mae: 64.9253 - val_loss: 21601.0449 - val_mae: 56.8436 - learning_rate: 2.2877e-04\n",
      "Epoch 149/200\n",
      "\u001b[1m1724/1724\u001b[0m \u001b[32m━━━━━━━━━━━━━━━━━━━━\u001b[0m\u001b[37m\u001b[0m \u001b[1m8s\u001b[0m 4ms/step - loss: 10845.6016 - mae: 65.2779 - val_loss: 21155.5781 - val_mae: 59.1956 - learning_rate: 2.2877e-04\n",
      "Epoch 150/200\n",
      "\u001b[1m1724/1724\u001b[0m \u001b[32m━━━━━━━━━━━━━━━━━━━━\u001b[0m\u001b[37m\u001b[0m \u001b[1m9s\u001b[0m 5ms/step - loss: 10945.0986 - mae: 65.7368 - val_loss: 14324.4287 - val_mae: 57.8760 - learning_rate: 2.2877e-04\n",
      "Epoch 151/200\n",
      "\u001b[1m1724/1724\u001b[0m \u001b[32m━━━━━━━━━━━━━━━━━━━━\u001b[0m\u001b[37m\u001b[0m \u001b[1m7s\u001b[0m 4ms/step - loss: 10400.9248 - mae: 64.2770 - val_loss: 9779.7881 - val_mae: 57.0645 - learning_rate: 2.0589e-04\n",
      "Epoch 152/200\n",
      "\u001b[1m1724/1724\u001b[0m \u001b[32m━━━━━━━━━━━━━━━━━━━━\u001b[0m\u001b[37m\u001b[0m \u001b[1m7s\u001b[0m 4ms/step - loss: 10793.8418 - mae: 65.2654 - val_loss: 9182.7529 - val_mae: 56.6882 - learning_rate: 2.0589e-04\n",
      "Epoch 153/200\n",
      "\u001b[1m1724/1724\u001b[0m \u001b[32m━━━━━━━━━━━━━━━━━━━━\u001b[0m\u001b[37m\u001b[0m \u001b[1m8s\u001b[0m 5ms/step - loss: 10380.8252 - mae: 64.6134 - val_loss: 9035.9873 - val_mae: 56.1522 - learning_rate: 2.0589e-04\n",
      "Epoch 154/200\n",
      "\u001b[1m1724/1724\u001b[0m \u001b[32m━━━━━━━━━━━━━━━━━━━━\u001b[0m\u001b[37m\u001b[0m \u001b[1m7s\u001b[0m 4ms/step - loss: 10597.5713 - mae: 65.0542 - val_loss: 12108.6182 - val_mae: 56.0145 - learning_rate: 2.0589e-04\n",
      "Epoch 155/200\n",
      "\u001b[1m1724/1724\u001b[0m \u001b[32m━━━━━━━━━━━━━━━━━━━━\u001b[0m\u001b[37m\u001b[0m \u001b[1m7s\u001b[0m 4ms/step - loss: 10933.9316 - mae: 65.6976 - val_loss: 19072.2676 - val_mae: 59.2176 - learning_rate: 2.0589e-04\n"
     ]
    }
   ],
   "source": [
    "history = model.fit(\n",
    "    X_train, y_train,\n",
    "    epochs=200,\n",
    "    batch_size=32,\n",
    "    validation_split=0.2,\n",
    "    callbacks=[early_stopping, lr_schedule],\n",
    "    verbose=1\n",
    ")"
   ]
  },
  {
   "cell_type": "markdown",
   "id": "25aba9eb-1c80-43c5-8350-82fc4befa10e",
   "metadata": {},
   "source": [
    "# Evaluating the TensorFlow model"
   ]
  },
  {
   "cell_type": "markdown",
   "id": "fe75279e-4fab-4bf0-8a42-175cf678cd5f",
   "metadata": {},
   "source": [
    "Predicting test data"
   ]
  },
  {
   "cell_type": "code",
   "execution_count": 679,
   "id": "dd83ccbc-5d3d-4826-b200-ffdd1961cb26",
   "metadata": {},
   "outputs": [
    {
     "name": "stdout",
     "output_type": "stream",
     "text": [
      "\u001b[1m539/539\u001b[0m \u001b[32m━━━━━━━━━━━━━━━━━━━━\u001b[0m\u001b[37m\u001b[0m \u001b[1m1s\u001b[0m 2ms/step\n"
     ]
    }
   ],
   "source": [
    "y_pred = model.predict(X_test)"
   ]
  },
  {
   "cell_type": "markdown",
   "id": "d67eb64b-4d9e-44a6-a362-31a81e287c3e",
   "metadata": {},
   "source": [
    "Calculating model's mean squared error"
   ]
  },
  {
   "cell_type": "code",
   "execution_count": 680,
   "id": "1f82ee90-6a63-4887-ad47-682bb9545dff",
   "metadata": {},
   "outputs": [
    {
     "name": "stdout",
     "output_type": "stream",
     "text": [
      "Model's mean squared error: 9377.793409113228\n"
     ]
    }
   ],
   "source": [
    "mse = mean_squared_error(y_test, y_pred)\n",
    "print(f\"Model's mean squared error: {mse}\")"
   ]
  },
  {
   "cell_type": "markdown",
   "id": "4c83625a-9f36-42c1-8941-43f7f60a0b98",
   "metadata": {},
   "source": [
    "Calculating model's mean squared logarithmic error"
   ]
  },
  {
   "cell_type": "code",
   "execution_count": 681,
   "id": "96f13fff-a746-4cff-a576-d27ca31b10ed",
   "metadata": {},
   "outputs": [
    {
     "name": "stdout",
     "output_type": "stream",
     "text": [
      "Model's mean squared logarithmic error: 0.20799011207647666\n"
     ]
    }
   ],
   "source": [
    "msle = mean_squared_log_error(y_test, y_pred)\n",
    "print(f\"Model's mean squared logarithmic error: {msle}\")"
   ]
  },
  {
   "cell_type": "markdown",
   "id": "3a0399a9-e394-4aef-ab37-e2910ffa8036",
   "metadata": {},
   "source": [
    "Calculating model's root mean squared logarithmic error"
   ]
  },
  {
   "cell_type": "code",
   "execution_count": 682,
   "id": "b44d6c7d-5272-48a2-820e-b0c4ab02de70",
   "metadata": {},
   "outputs": [
    {
     "name": "stdout",
     "output_type": "stream",
     "text": [
      "Model's root mean squared logarithmic error: 0.45605932955754414\n"
     ]
    }
   ],
   "source": [
    "rmsle = np.sqrt(msle)\n",
    "print(f\"Model's root mean squared logarithmic error: {rmsle}\")"
   ]
  }
 ],
 "metadata": {
  "kernelspec": {
   "display_name": "Python 3 (ipykernel)",
   "language": "python",
   "name": "python3"
  },
  "language_info": {
   "codemirror_mode": {
    "name": "ipython",
    "version": 3
   },
   "file_extension": ".py",
   "mimetype": "text/x-python",
   "name": "python",
   "nbconvert_exporter": "python",
   "pygments_lexer": "ipython3",
   "version": "3.9.19"
  }
 },
 "nbformat": 4,
 "nbformat_minor": 5
}
