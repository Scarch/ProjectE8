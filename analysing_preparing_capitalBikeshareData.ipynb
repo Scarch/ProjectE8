{
 "cells": [
  {
   "metadata": {},
   "cell_type": "markdown",
   "source": "# Making Capital Bikeshare system data usable",
   "id": "46889185c62f4528"
  },
  {
   "metadata": {},
   "cell_type": "markdown",
   "source": [
    "## Unzipping files\n",
    "\n",
    "We'll add all of the files into a new folder (`/unzippedData`)\n",
    "\n",
    "**Warning**: requires at least 5.63GB of space"
   ],
   "id": "634e9323845fc0f2"
  },
  {
   "metadata": {
    "ExecuteTime": {
     "end_time": "2024-12-02T14:30:30.326742Z",
     "start_time": "2024-12-02T14:30:05.310954Z"
    }
   },
   "cell_type": "code",
   "source": [
    "import os\n",
    "import zipfile\n",
    "\n",
    "for file in os.listdir(\"./capitalBikeshareData\"):\n",
    "    filepath = \"./capitalBikeshareData/\" + file\n",
    "    with zipfile.ZipFile(filepath, 'r') as zip_ref:\n",
    "        zip_ref.extractall(\"./unzippedData\")"
   ],
   "id": "1ece8cde5822e77c",
   "outputs": [
    {
     "name": "stdout",
     "output_type": "stream",
     "text": [
      "C:\\Users\\Sten\\Documents\\GitHub\\ProjectE8\n"
     ]
    }
   ],
   "execution_count": 5
  },
  {
   "metadata": {},
   "cell_type": "markdown",
   "source": [
    "## Analysing data before any further data preparation\n",
    "\n",
    "Since we want to work on as much data as possible, we want to combine the data into one csv file. This however requires the csv files to be the same for the most part. The most important part is for each of the csv files to each have similar/same features. Let's check that."
   ],
   "id": "a3a98778fc575ae0"
  },
  {
   "metadata": {
    "ExecuteTime": {
     "end_time": "2024-12-02T15:43:09.757558Z",
     "start_time": "2024-12-02T15:40:55.133400Z"
    }
   },
   "cell_type": "code",
   "source": [
    "import os\n",
    "import pandas as pd\n",
    "\n",
    "combinedData = pd.DataFrame({'Duration': [], 'Start date': [], 'End date': [], 'Start station number': [],\n",
    "                             'Start station': [], 'End station number': [], 'End station': [], 'Bike number': [],\n",
    "                             'Member type': []})\n",
    "\n",
    "columnNamesDict = dict()\n",
    "for file in os.listdir(\"./unzippedData\"):\n",
    "    filepath = \"./unzippedData/\" + file\n",
    "    if not os.path.isfile(filepath):\n",
    "        continue\n",
    "    fileDataframe = pd.read_csv(filepath)\n",
    "    columnNames = \"\"\n",
    "    for name in fileDataframe.columns:\n",
    "        columnNames += name + \", \"\n",
    "    columnNames = columnNames[:-2]\n",
    "    if columnNames not in columnNamesDict:\n",
    "        print(filepath)\n",
    "        print(columnNames + \"\\n\")\n",
    "        columnNamesDict[columnNames] = fileDataframe.columns.values.tolist()\n"
   ],
   "id": "96f92d72aff7a185",
   "outputs": [
    {
     "name": "stdout",
     "output_type": "stream",
     "text": [
      "./unzippedData/2010-capitalbikeshare-tripdata.csv\n",
      "Duration, Start date, End date, Start station number, Start station, End station number, End station, Bike number, Member type\n",
      "\n",
      "./unzippedData/202004-capitalbikeshare-tripdata.csv\n",
      "ride_id, rideable_type, started_at, ended_at, start_station_name, start_station_id, end_station_name, end_station_id, start_lat, start_lng, end_lat, end_lng, member_casual\n",
      "\n"
     ]
    },
    {
     "name": "stderr",
     "output_type": "stream",
     "text": [
      "C:\\Users\\Sten\\AppData\\Local\\Temp\\ipykernel_106760\\1569489933.py:13: DtypeWarning: Columns (5,7) have mixed types. Specify dtype option on import or set low_memory=False.\n",
      "  fileDataframe = pd.read_csv(filepath)\n"
     ]
    }
   ],
   "execution_count": 10
  },
  {
   "metadata": {},
   "cell_type": "markdown",
   "source": [
    "Csv files before April 2020 have columns `Duration`, `Start date`, `End date`, `Start station number`, `Start station`, `End station number`, `End station`, `Bike number`, `Member type`.\n",
    "\n",
    "Csv files after April 2020 have columns `ride_id`, `rideable_type`, `started_at`, `ended_at`, `start_station_name`, `start_station_id`, `end_station_name`, `end_station_id`, `start_lat`, `start_lng`, `end_lat`, `end_lng`, `member_casual`.\n",
    "\n",
    "These factors make combining datasets difficult.\n"
   ],
   "id": "3de0b71818dff39e"
  },
  {
   "metadata": {},
   "cell_type": "markdown",
   "source": [
    "## Combining Data into one singular csv file\n",
    "\n",
    "Since we have two different sets of column names / features for two different time ranges, we'll try to make one csv file for both sets.\n",
    "\n",
    "**Warning**: takes a long time (~8 minutes) and requires at least 5.63 GB of space"
   ],
   "id": "c915903b62f3bdfb"
  },
  {
   "metadata": {
    "ExecuteTime": {
     "end_time": "2024-12-02T16:00:24.709840Z",
     "start_time": "2024-12-02T15:52:21.866849Z"
    }
   },
   "cell_type": "code",
   "source": [
    "import os\n",
    "import pandas as pd\n",
    "\n",
    "combinedDataBeforeApril2020 = pd.DataFrame(\n",
    "    {'Duration': [], 'Start date': [], 'End date': [], 'Start station number': [],\n",
    "     'Start station': [], 'End station number': [], 'End station': [], 'Bike number': [],\n",
    "     'Member type': []})\n",
    "\n",
    "combinedDataAfterApril2020 = pd.DataFrame({'ride_id': [], 'rideable_type': [], 'started_at': [], 'ended_at': [],\n",
    "                              'start_station_name': [],\n",
    "                              'start_station_id': [], 'end_station_name': [], 'end_station_id': [], 'start_lat': [],\n",
    "                              'start_lng': [],\n",
    "                              'end_lat': [], 'end_lng': [], 'member_casual': []})\n",
    "\n",
    "columnNamesDict = set()\n",
    "for file in os.listdir(\"./unzippedData\"):\n",
    "    filepath = \"./unzippedData/\" + file\n",
    "\n",
    "    if not os.path.isfile(filepath):\n",
    "        continue\n",
    "\n",
    "    fileDataframe = pd.read_csv(filepath)\n",
    "\n",
    "    if fileDataframe.columns[0] == 'ride_id':\n",
    "        combinedDataAfterApril2020 = pd.concat([combinedDataAfterApril2020, fileDataframe], ignore_index=True)\n",
    "    else:\n",
    "        combinedDataBeforeApril2020 = pd.concat([combinedDataBeforeApril2020, fileDataframe], ignore_index=True)\n",
    "\n",
    "combinedDataAfterApril2020.to_csv('./combinedDataAfterApril2020.csv')\n",
    "combinedDataBeforeApril2020.to_csv('./combinedDataBeforeApril2020.csv')"
   ],
   "id": "a2f8f232afb6bf8c",
   "outputs": [
    {
     "name": "stderr",
     "output_type": "stream",
     "text": [
      "C:\\Users\\Sten\\AppData\\Local\\Temp\\ipykernel_106760\\2916882342.py:22: DtypeWarning: Columns (5,7) have mixed types. Specify dtype option on import or set low_memory=False.\n",
      "  fileDataframe = pd.read_csv(filepath)\n"
     ]
    }
   ],
   "execution_count": 13
  }
 ],
 "metadata": {
  "kernelspec": {
   "display_name": "Python 3",
   "language": "python",
   "name": "python3"
  },
  "language_info": {
   "codemirror_mode": {
    "name": "ipython",
    "version": 2
   },
   "file_extension": ".py",
   "mimetype": "text/x-python",
   "name": "python",
   "nbconvert_exporter": "python",
   "pygments_lexer": "ipython2",
   "version": "2.7.6"
  }
 },
 "nbformat": 4,
 "nbformat_minor": 5
}
